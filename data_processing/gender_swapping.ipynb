{
 "cells": [
  {
   "cell_type": "code",
   "execution_count": 44,
   "id": "19328c7c",
   "metadata": {},
   "outputs": [],
   "source": [
    "import pandas as pd\n",
    "import numpy as np\n",
    "import csv\n",
    "import json\n",
    "import re\n",
    "from allennlp_models.common.ontonotes import Ontonotes"
   ]
  },
  {
   "cell_type": "code",
   "execution_count": 3,
   "id": "edcf154f",
   "metadata": {},
   "outputs": [],
   "source": [
    "onto = Ontonotes()\n",
    "ds = onto.dataset_iterator('../code_base/ontonotes_data/train/data/english/annotations')\n",
    "all_sentences = []\n",
    "all_sentences_entities = []\n",
    "all_sentences_pos = []\n",
    "for x in ds:\n",
    "    sentences = x.words\n",
    "    pos_tags = x.pos_tags\n",
    "    all_sentences.append(sentences)\n",
    "    all_sentences_pos.append(pos_tags)"
   ]
  },
  {
   "cell_type": "code",
   "execution_count": 4,
   "id": "9f674608",
   "metadata": {},
   "outputs": [
    {
     "data": {
      "text/plain": [
       "115812"
      ]
     },
     "execution_count": 4,
     "metadata": {},
     "output_type": "execute_result"
    }
   ],
   "source": [
    "len(all_sentences)"
   ]
  },
  {
   "cell_type": "code",
   "execution_count": 95,
   "id": "23348bb2",
   "metadata": {},
   "outputs": [],
   "source": [
    "class PrepareDataForAugmentation():\n",
    "    def __init__(self, data, data_pos_tags):\n",
    "        self.data = data\n",
    "        self.pos_tags = data_pos_tags\n",
    "        self.gendered_sentences = []\n",
    "        self.gendered_sentences_pos = []\n",
    "        self.word_mapping_male_2_female = {}\n",
    "        self.word_mapping_female_2_male = {}\n",
    "        self.swapped_sentences = []\n",
    "        self.masked_orig_sentences = []\n",
    "        self.masked_swapped_sentences = []\n",
    "        \n",
    "    def extract_gendered_sentences(self):\n",
    "        pronoun_list = [\"he\" \"him\", \"his\", \"her\", \"she\"]\n",
    "        for idx, sentence in enumerate(self.data):\n",
    "            for word in sentence:\n",
    "                if word in pronoun_list:\n",
    "                    # gendered pronoun present\n",
    "                    self.gendered_sentences.append((idx, sentence))\n",
    "                    break\n",
    "    \n",
    "    def extract_gendered_sent_pos_tags(self):\n",
    "        for idx, sent in self.gendered_sentences:\n",
    "            self.gendered_sentences_pos.append(self.pos_tags[idx])\n",
    "            \n",
    "    def create_word_male_female_mappings(self):\n",
    "        # load male to female mapping for gender-specific words\n",
    "        word_data = None\n",
    "        with open('../code_base/cda_default_pairs.json', 'r') as f:\n",
    "            word_data = json.load(f)\n",
    "        \n",
    "        # convert to a dict for easier mapping\n",
    "        for mapping in word_data:\n",
    "            self.word_mapping_male_2_female[mapping[0]] = mapping[1]\n",
    "        self.word_mapping_female_2_male = \\\n",
    "            {value: key for key, value in self.word_mapping_male_2_female.items()}\n",
    "        \n",
    "    def swap_gendered_words(self, sentence, pos_tags):\n",
    "        flipped_sentence = []\n",
    "        for idx, word in enumerate(sentence):\n",
    "            pos_tag = pos_tags[idx]\n",
    "            if word == \"him\":\n",
    "                flipped_sentence.append(\"her\")\n",
    "            elif word == \"his\" and pos_tag == \"NNS\":\n",
    "                flipped_sentence.append(\"hers\")\n",
    "            elif word == \"his\" and (pos_tag == \"PRP\" or pos_tag == \"PRP$\"):\n",
    "                flipped_sentence.append(\"her\")\n",
    "            elif word == \"her\" and pos_tag == \"PRP$\":\n",
    "                flipped_sentence.append(\"his\")\n",
    "            elif word == \"her\" and pos_tag == \"PRP\":\n",
    "                flipped_sentence.append(\"him\")\n",
    "            elif word == \"hers\":\n",
    "                flipped_sentence.append(\"his\")\n",
    "            elif word in word_mapping_male_2_female.keys():\n",
    "                flipped_sentence.append(word_mapping_male_2_female[word])\n",
    "            elif word in word_mapping_female_2_male.keys():\n",
    "                flipped_sentence.append(word_mapping_female_2_male[word])\n",
    "            elif pos_tag == \"NNP\":\n",
    "                # replace with a mask\n",
    "                flipped_sentence.append(\"NAME\")\n",
    "            else:\n",
    "                flipped_sentence.append(word)\n",
    "\n",
    "        return flipped_sentence\n",
    "    \n",
    "    def lower_case_sentences(self, sentence):\n",
    "        sentence = [word.lower() for word in sentence]\n",
    "        return sentence\n",
    "\n",
    "    def swap_sentences(self):\n",
    "        swapped_sentences = []\n",
    "        for idx, sentence in enumerate(self.gendered_sentences):\n",
    "            sentence = self.lower_case_sentences(sentence[1])\n",
    "            swapped_sent = \\\n",
    "                self.swap_gendered_words(sentence, self.gendered_sentences_pos[idx])\n",
    "            swapped_sentences.append(swapped_sent)\n",
    "        return swapped_sentences\n",
    "    \n",
    "    def generate_swapped_sentences(self):\n",
    "        self.extract_gendered_sentences()\n",
    "        self.extract_gendered_sent_pos_tags()\n",
    "        self.create_word_male_female_mappings()\n",
    "        self.swapped_sentences = self.swap_sentences()\n",
    "        return self.swapped_sentences\n",
    "    \n",
    "    def combine_gendered_swapped_sentences(self):\n",
    "        combined_original_sentences = []\n",
    "        combined_swapped_sentences = []\n",
    "        for sent in self.gendered_sentences:\n",
    "            combined_original_sentences.append(' '.join(sent[1]))\n",
    "        for sent in self.swapped_sentences:\n",
    "            combined_swapped_sentences.append(' '.join(sent))\n",
    "        return combined_original_sentences, combined_swapped_sentences\n",
    "    \n",
    "    # Used to mask the gender pronouns, so that we can predict these\n",
    "    # using our model\n",
    "    def replace_pronouns(self, data):\n",
    "        masked_sentences = []\n",
    "        for sent in data:\n",
    "            sent = sent.lower()\n",
    "            pronoun_regex = r\"\\bhis\\b|\\bher\\b|\\bhim\\b|\\bshe\\b|\\bhe\\b|\\bhers\\b\"\n",
    "            matched_strings = re.findall(pronoun_regex, sent)\n",
    "            for gender_pronoun in matched_strings:\n",
    "                pronoun = gender_pronoun\n",
    "                masked_sent = re.sub(pronoun_regex, \"<MASK>\", sent)\n",
    "                masked_sentences.append([masked_sent, pronoun])\n",
    "        return masked_sentences\n",
    "    \n",
    "    def mask_gender_pronouns(self):\n",
    "        orig_sentences, swapped_sentences = \\\n",
    "            self.combine_gendered_swapped_sentences()\n",
    "        self.masked_original_sentences = self.replace_pronouns(orig_sentences)\n",
    "        self.masked_swapped_sentences = self.replace_pronouns(swapped_sentences)"
   ]
  },
  {
   "cell_type": "code",
   "execution_count": 104,
   "id": "e7774784",
   "metadata": {},
   "outputs": [],
   "source": [
    "processed_data = PrepareDataForAugmentation(all_sentences, all_sentences_pos)\n",
    "swapped_sentences = processed_data.generate_swapped_sentences()"
   ]
  },
  {
   "cell_type": "code",
   "execution_count": 97,
   "id": "914d8266",
   "metadata": {},
   "outputs": [],
   "source": [
    "processed_data.mask_gender_pronouns()"
   ]
  },
  {
   "cell_type": "code",
   "execution_count": 102,
   "id": "9d481c96",
   "metadata": {},
   "outputs": [
    {
     "data": {
      "text/plain": [
       "[['lee relates that as a youth <MASK> studied because <MASK> was forced to , but now <MASK> motivations for learning are far greater - so great in fact that <MASK> registered for three classes at the start of the semester , a decision <MASK> has come to regret for lack of time .',\n",
       "  'he'],\n",
       " ['lee relates that as a youth <MASK> studied because <MASK> was forced to , but now <MASK> motivations for learning are far greater - so great in fact that <MASK> registered for three classes at the start of the semester , a decision <MASK> has come to regret for lack of time .',\n",
       "  'he'],\n",
       " ['lee relates that as a youth <MASK> studied because <MASK> was forced to , but now <MASK> motivations for learning are far greater - so great in fact that <MASK> registered for three classes at the start of the semester , a decision <MASK> has come to regret for lack of time .',\n",
       "  'his'],\n",
       " ['lee relates that as a youth <MASK> studied because <MASK> was forced to , but now <MASK> motivations for learning are far greater - so great in fact that <MASK> registered for three classes at the start of the semester , a decision <MASK> has come to regret for lack of time .',\n",
       "  'he'],\n",
       " ['lee relates that as a youth <MASK> studied because <MASK> was forced to , but now <MASK> motivations for learning are far greater - so great in fact that <MASK> registered for three classes at the start of the semester , a decision <MASK> has come to regret for lack of time .',\n",
       "  'he']]"
      ]
     },
     "execution_count": 102,
     "metadata": {},
     "output_type": "execute_result"
    }
   ],
   "source": [
    "processed_data.masked_original_sentences[:5]"
   ]
  },
  {
   "cell_type": "code",
   "execution_count": 103,
   "id": "f023d0a3",
   "metadata": {},
   "outputs": [
    {
     "data": {
      "text/plain": [
       "[['name relates that as a youth <MASK> studied because <MASK> was forced to , but now <MASK> motivations for learning are far greater - so great in fact that <MASK> registered for three classes at the start of the semester , a decision <MASK> has come to regret for lack of time .',\n",
       "  'she'],\n",
       " ['name relates that as a youth <MASK> studied because <MASK> was forced to , but now <MASK> motivations for learning are far greater - so great in fact that <MASK> registered for three classes at the start of the semester , a decision <MASK> has come to regret for lack of time .',\n",
       "  'she'],\n",
       " ['name relates that as a youth <MASK> studied because <MASK> was forced to , but now <MASK> motivations for learning are far greater - so great in fact that <MASK> registered for three classes at the start of the semester , a decision <MASK> has come to regret for lack of time .',\n",
       "  'her'],\n",
       " ['name relates that as a youth <MASK> studied because <MASK> was forced to , but now <MASK> motivations for learning are far greater - so great in fact that <MASK> registered for three classes at the start of the semester , a decision <MASK> has come to regret for lack of time .',\n",
       "  'she'],\n",
       " ['name relates that as a youth <MASK> studied because <MASK> was forced to , but now <MASK> motivations for learning are far greater - so great in fact that <MASK> registered for three classes at the start of the semester , a decision <MASK> has come to regret for lack of time .',\n",
       "  'she']]"
      ]
     },
     "execution_count": 103,
     "metadata": {},
     "output_type": "execute_result"
    }
   ],
   "source": [
    "processed_data.masked_swapped_sentences[:5]"
   ]
  },
  {
   "cell_type": "code",
   "execution_count": 100,
   "id": "81e87803",
   "metadata": {},
   "outputs": [
    {
     "data": {
      "text/plain": [
       "13915"
      ]
     },
     "execution_count": 100,
     "metadata": {},
     "output_type": "execute_result"
    }
   ],
   "source": [
    "len(processed_data.masked_swapped_sentences)"
   ]
  },
  {
   "cell_type": "code",
   "execution_count": 101,
   "id": "9d216920",
   "metadata": {},
   "outputs": [
    {
     "data": {
      "text/plain": [
       "13915"
      ]
     },
     "execution_count": 101,
     "metadata": {},
     "output_type": "execute_result"
    }
   ],
   "source": [
    "len(processed_data.masked_original_sentences)"
   ]
  }
 ],
 "metadata": {
  "kernelspec": {
   "display_name": "Python 3 (ipykernel)",
   "language": "python",
   "name": "python3"
  },
  "language_info": {
   "codemirror_mode": {
    "name": "ipython",
    "version": 3
   },
   "file_extension": ".py",
   "mimetype": "text/x-python",
   "name": "python",
   "nbconvert_exporter": "python",
   "pygments_lexer": "ipython3",
   "version": "3.9.12"
  }
 },
 "nbformat": 4,
 "nbformat_minor": 5
}
