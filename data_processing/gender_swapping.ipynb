{
 "cells": [
  {
   "cell_type": "code",
   "execution_count": 2,
   "id": "19328c7c",
   "metadata": {},
   "outputs": [],
   "source": [
    "import pandas as pd\n",
    "import numpy as np\n",
    "import csv\n",
    "import json\n",
    "from allennlp_models.common.ontonotes import Ontonotes"
   ]
  },
  {
   "cell_type": "code",
   "execution_count": 3,
   "id": "edcf154f",
   "metadata": {},
   "outputs": [],
   "source": [
    "onto = Ontonotes()\n",
    "ds = onto.dataset_iterator('../code_base/ontonotes_data/train/data/english/annotations')\n",
    "all_sentences = []\n",
    "all_sentences_entities = []\n",
    "all_sentences_pos = []\n",
    "for x in ds:\n",
    "    sentences = x.words\n",
    "    pos_tags = x.pos_tags\n",
    "    all_sentences.append(sentences)\n",
    "    all_sentences_pos.append(pos_tags)"
   ]
  },
  {
   "cell_type": "code",
   "execution_count": 4,
   "id": "9f674608",
   "metadata": {},
   "outputs": [
    {
     "data": {
      "text/plain": [
       "115812"
      ]
     },
     "execution_count": 4,
     "metadata": {},
     "output_type": "execute_result"
    }
   ],
   "source": [
    "len(all_sentences)"
   ]
  },
  {
   "cell_type": "code",
   "execution_count": 5,
   "id": "8c209afc",
   "metadata": {},
   "outputs": [],
   "source": [
    "# Extract sentences that contain gender pronouns\n",
    "gendered_sentences = []\n",
    "pronoun_list = [\"he\" \"him\", \"his\", \"her\", \"she\"]\n",
    "for idx, sentence in enumerate(all_sentences):\n",
    "    for word in sentence:\n",
    "        if word in pronoun_list:\n",
    "            # gendered pronoun present\n",
    "            gendered_sentences.append((idx, sentence))\n",
    "            break"
   ]
  },
  {
   "cell_type": "code",
   "execution_count": 6,
   "id": "8ea338cb",
   "metadata": {},
   "outputs": [
    {
     "data": {
      "text/plain": [
       "8289"
      ]
     },
     "execution_count": 6,
     "metadata": {},
     "output_type": "execute_result"
    }
   ],
   "source": [
    "len(gendered_sentences)"
   ]
  },
  {
   "cell_type": "code",
   "execution_count": 9,
   "id": "03ac22b4",
   "metadata": {},
   "outputs": [],
   "source": [
    "# Extract the POS tags for these gendered sentences\n",
    "gendered_sentences_pos = []\n",
    "for idx, sent in gendered_sentences:\n",
    "    gendered_sentences_pos.append(all_sentences_pos[idx])"
   ]
  },
  {
   "cell_type": "code",
   "execution_count": 10,
   "id": "8548189b",
   "metadata": {},
   "outputs": [],
   "source": [
    "# load male to female mapping for gender-specific words\n",
    "word_data = None\n",
    "with open('../code_base/cda_default_pairs.json', 'r') as f:\n",
    "    word_data = json.load(f)"
   ]
  },
  {
   "cell_type": "code",
   "execution_count": 11,
   "id": "32a960fb",
   "metadata": {},
   "outputs": [],
   "source": [
    "# convert to a dict for easier mapping\n",
    "word_mapping_male_2_female = {}\n",
    "for mapping in word_data:\n",
    "    word_mapping_male_2_female[mapping[0]] = mapping[1]\n",
    "word_mapping_female_2_male = {value: key for key, value in word_mapping_male_2_female.items()}"
   ]
  },
  {
   "cell_type": "code",
   "execution_count": 32,
   "id": "8ae44a37",
   "metadata": {},
   "outputs": [
    {
     "data": {
      "text/plain": [
       "{'gods': 'goddesses',\n",
       " 'manager': 'manageress',\n",
       " 'barons': 'baronesses',\n",
       " 'nephew': 'niece',\n",
       " 'prince': 'princess',\n",
       " 'boars': 'sows',\n",
       " 'baron': 'baroness',\n",
       " 'stepfathers': 'stepmothers',\n",
       " 'wizard': 'witch',\n",
       " 'father': 'mother',\n",
       " 'stepsons': 'stepdaughters',\n",
       " 'sons-in-law': 'daughters-in-law',\n",
       " 'dukes': 'duchesses',\n",
       " 'boyfriend': 'girlfriend',\n",
       " 'fiances': 'fiancees',\n",
       " 'dad': 'mom',\n",
       " 'shepherd': 'shepherdess',\n",
       " 'uncles': 'aunts',\n",
       " 'beau': 'belle',\n",
       " 'males': 'females',\n",
       " 'hunter': 'huntress',\n",
       " 'beaus': 'belles',\n",
       " 'grandfathers': 'grandmothers',\n",
       " 'lads': 'lasses',\n",
       " 'daddies': 'mummies',\n",
       " 'step-son': 'step-daughter',\n",
       " 'masters': 'mistresses',\n",
       " 'policeman': 'policewoman',\n",
       " 'nephews': 'nieces',\n",
       " 'brother': 'sister',\n",
       " 'grandfather': 'grandmother',\n",
       " 'priest': 'priestess',\n",
       " 'hosts': 'hostesses',\n",
       " 'landlord': 'landlady',\n",
       " 'husband': 'wife',\n",
       " 'poet': 'poetess',\n",
       " 'landlords': 'landladies',\n",
       " 'fathers': 'mothers',\n",
       " 'masseur': 'masseuse',\n",
       " 'monks': 'nuns',\n",
       " 'usher': 'usherette',\n",
       " 'hero': 'heroine',\n",
       " 'stepson': 'stepdaughter',\n",
       " 'postman': 'postwoman',\n",
       " 'god': 'goddess',\n",
       " 'milkmen': 'milkmaids',\n",
       " 'stags': 'hinds',\n",
       " 'grandpa': 'grandma',\n",
       " 'chairmen': 'chairwomen',\n",
       " 'husbands': 'wives',\n",
       " 'grandpas': 'grandmas',\n",
       " 'stewards': 'stewardesses',\n",
       " 'murderer': 'murderess',\n",
       " 'manservant': 'maidservant',\n",
       " 'men': 'women',\n",
       " 'host': 'hostess',\n",
       " 'heirs': 'heiresses',\n",
       " 'masseurs': 'masseuses',\n",
       " 'boy': 'girl',\n",
       " 'male': 'female',\n",
       " 'son-in-law': 'daughter-in-law',\n",
       " 'waiter': 'waitress',\n",
       " 'tutors': 'governesses',\n",
       " 'priests': 'priestesses',\n",
       " 'bachelor': 'spinster',\n",
       " 'millionaire': 'millionairess',\n",
       " 'steward': 'stewardess',\n",
       " 'businessmen': 'businesswomen',\n",
       " 'congressman': 'congresswoman',\n",
       " 'emperor': 'empress',\n",
       " 'duke': 'duchess',\n",
       " 'sire': 'dam',\n",
       " 'son': 'daughter',\n",
       " 'sirs': 'madams',\n",
       " 'widower': 'widow',\n",
       " 'kings': 'queens',\n",
       " 'papas': 'mamas',\n",
       " 'grandsons': 'granddaughters',\n",
       " 'proprietor': 'proprietress',\n",
       " 'monk': 'nun',\n",
       " 'headmasters': 'headmistresses',\n",
       " 'grooms': 'brides',\n",
       " 'heir': 'heiress',\n",
       " 'boys': 'girls',\n",
       " 'gentleman': 'lady',\n",
       " 'uncle': 'aunt',\n",
       " 'he': 'she',\n",
       " 'king': 'queen',\n",
       " 'princes': 'princesses',\n",
       " 'policemen': 'policewomen',\n",
       " 'governor': 'matron',\n",
       " 'fiance': 'fiancee',\n",
       " 'step-father': 'step-mother',\n",
       " 'waiters': 'waitresses',\n",
       " 'mr': 'mrs',\n",
       " 'stepfather': 'stepmother',\n",
       " 'daddy': 'mummy',\n",
       " 'lords': 'ladies',\n",
       " 'widowers': 'widows',\n",
       " 'emperors': 'empresses',\n",
       " 'father-in-law': 'mother-in-law',\n",
       " 'abbot': 'abbess',\n",
       " 'sir': 'madam',\n",
       " 'actor': 'actress',\n",
       " 'mr.': 'mrs.',\n",
       " 'wizards': 'witches',\n",
       " 'actors': 'actresses',\n",
       " 'chairman': 'chairwoman',\n",
       " 'sorcerer': 'sorceress',\n",
       " 'postmaster': 'postmistress',\n",
       " 'brothers': 'sisters',\n",
       " 'lad': 'lass',\n",
       " 'headmaster': 'headmistress',\n",
       " 'papa': 'mama',\n",
       " 'milkman': 'milkmaid',\n",
       " 'heroes': 'heroines',\n",
       " 'man': 'woman',\n",
       " 'grandson': 'granddaughter',\n",
       " 'groom': 'bride',\n",
       " 'sons': 'daughters',\n",
       " 'congressmen': 'congresswomen',\n",
       " 'businessman': 'businesswoman',\n",
       " 'boyfriends': 'girlfriends',\n",
       " 'dads': 'moms'}"
      ]
     },
     "execution_count": 32,
     "metadata": {},
     "output_type": "execute_result"
    }
   ],
   "source": [
    "word_mapping_male_2_female"
   ]
  },
  {
   "cell_type": "code",
   "execution_count": 14,
   "id": "75a94065",
   "metadata": {},
   "outputs": [],
   "source": [
    "def swap_gendered_words(sentence, pos_tags):\n",
    "    flipped_sentence = []\n",
    "    for idx, word in enumerate(sentence):\n",
    "        pos_tag = pos_tags[idx]\n",
    "        if word == \"him\":\n",
    "            flipped_sentence.append(\"her\")\n",
    "        elif word == \"his\" and pos_tag == \"NNS\":\n",
    "            flipped_sentence.append(\"hers\")\n",
    "        elif word == \"his\" and (pos_tag == \"PRP\" or pos_tag == \"PRP$\"):\n",
    "            flipped_sentence.append(\"her\")\n",
    "        elif word == \"her\" and pos_tag == \"PRP$\":\n",
    "            flipped_sentence.append(\"his\")\n",
    "        elif word == \"her\" and pos_tag == \"PRP\":\n",
    "            flipped_sentence.append(\"him\")\n",
    "        elif word == \"hers\":\n",
    "            flipped_sentence.append(\"his\")\n",
    "        elif word in word_mapping_male_2_female.keys():\n",
    "            flipped_sentence.append(word_mapping_male_2_female[word])\n",
    "        elif word in word_mapping_female_2_male.keys():\n",
    "            flipped_sentence.append(word_mapping_female_2_male[word])\n",
    "        elif pos_tag == \"NNP\":\n",
    "            # replace with a mask\n",
    "            flipped_sentence.append(\"NAME\")\n",
    "        else:\n",
    "            flipped_sentence.append(word)\n",
    "    \n",
    "    return flipped_sentence"
   ]
  },
  {
   "cell_type": "code",
   "execution_count": 18,
   "id": "44c0b071",
   "metadata": {},
   "outputs": [],
   "source": [
    "def lower_case_sentences(sentence):\n",
    "    sentence = [word.lower() for word in sentence]\n",
    "    return sentence\n",
    "\n",
    "def swap_sentences():\n",
    "    swapped_sentences = []\n",
    "    for idx, sentence in enumerate(gendered_sentences):\n",
    "        sentence = lower_case_sentences(sentence[1])\n",
    "        swapped_sent = swap_gendered_words(sentence, gendered_sentences_pos[idx])\n",
    "        swapped_sentences.append(swapped_sent)\n",
    "    return swapped_sentences"
   ]
  },
  {
   "cell_type": "code",
   "execution_count": 19,
   "id": "06e1d79d",
   "metadata": {},
   "outputs": [],
   "source": [
    "swapped_sentences = swap_sentences()"
   ]
  },
  {
   "cell_type": "code",
   "execution_count": 20,
   "id": "07810a7e",
   "metadata": {},
   "outputs": [
    {
     "data": {
      "text/plain": [
       "8289"
      ]
     },
     "execution_count": 20,
     "metadata": {},
     "output_type": "execute_result"
    }
   ],
   "source": [
    "len(swapped_sentences)"
   ]
  },
  {
   "cell_type": "code",
   "execution_count": 24,
   "id": "f78dc635",
   "metadata": {},
   "outputs": [
    {
     "name": "stdout",
     "output_type": "stream",
     "text": [
      "Original sentence:  ['Lee', 'relates', 'that', 'as', 'a', 'youth', 'he', 'studied', 'because', 'he', 'was', 'forced', 'to', ',', 'but', 'now', 'his', 'motivations', 'for', 'learning', 'are', 'far', 'greater', '-', 'so', 'great', 'in', 'fact', 'that', 'he', 'registered', 'for', 'three', 'classes', 'at', 'the', 'start', 'of', 'the', 'semester', ',', 'a', 'decision', 'he', 'has', 'come', 'to', 'regret', 'for', 'lack', 'of', 'time', '.']\n",
      "Swapped sentence:  ['NAME', 'relates', 'that', 'as', 'a', 'youth', 'she', 'studied', 'because', 'she', 'was', 'forced', 'to', ',', 'but', 'now', 'her', 'motivations', 'for', 'learning', 'are', 'far', 'greater', '-', 'so', 'great', 'in', 'fact', 'that', 'she', 'registered', 'for', 'three', 'classes', 'at', 'the', 'start', 'of', 'the', 'semester', ',', 'a', 'decision', 'she', 'has', 'come', 'to', 'regret', 'for', 'lack', 'of', 'time', '.']\n",
      "\n",
      "\n",
      "Original sentence:  ['Ever', 'since', 'graduating', 'with', 'a', 'degree', 'in', 'mechanical', 'engineering', 'from', 'NTUST', 'and', 'setting', 'out', 'to', 'start', 'his', 'own', 'business', 'over', '20', 'years', 'ago', ',', 'that', 'degree', 'has', 'sat', 'in', 'a', 'drawer', 'somewhere', ',', 'relegated', 'to', 'mere', 'symbolic', 'significance', '.']\n",
      "Swapped sentence:  ['ever', 'since', 'graduating', 'with', 'a', 'degree', 'in', 'mechanical', 'engineering', 'from', 'NAME', 'and', 'setting', 'out', 'to', 'start', 'her', 'own', 'business', 'over', '20', 'years', 'ago', ',', 'that', 'degree', 'has', 'sat', 'in', 'a', 'drawer', 'somewhere', ',', 'relegated', 'to', 'mere', 'symbolic', 'significance', '.']\n",
      "\n",
      "\n",
      "Original sentence:  ['Chang', 'Chin', '-', 'tsung', ',', 'a', 'researcher', 'at', 'the', 'Chung', '-', 'Shan', 'Institute', 'of', 'Science', '&', 'Technology', 'with', 'a', 'Ph.D.', 'in', 'mechanical', 'engineering', 'from', 'a', 'US', 'university', ',', 'shuttles', 'between', 'his', 'office', 'in', 'Taoyuan', 's', 'Lungtan', 'and', 'the', 'NTU', 'campus', 'three', 'days', 'each', 'week', '.']\n",
      "Swapped sentence:  ['NAME', 'NAME', '-', 'NAME', ',', 'a', 'researcher', 'at', 'the', 'NAME', '-', 'NAME', 'NAME', 'of', 'NAME', '&', 'NAME', 'with', 'a', 'ph.d.', 'in', 'mechanical', 'engineering', 'from', 'a', 'NAME', 'university', ',', 'shuttles', 'between', 'her', 'office', 'in', 'NAME', 's', 'NAME', 'and', 'the', 'NAME', 'campus', 'three', 'days', 'each', 'week', '.']\n",
      "\n",
      "\n",
      "Original sentence:  ['She', 'divides', 'her', 'schedule', 'into', 'three', '-', 'month', 'cycles', ',', 'and', 'with', 'one', 'class', 'on', 'Thursday', 'afternoons', ',', 'her', 'company', 'does', 'its', 'best', 'to', 'accommodate', 'her', 'by', 'not', 'holding', 'meetings', 'that', 'involve', 'her', 'on', 'that', 'day', 'of', 'the', 'week', '.']\n",
      "Swapped sentence:  ['he', 'divides', 'his', 'schedule', 'into', 'three', '-', 'month', 'cycles', ',', 'and', 'with', 'one', 'class', 'on', 'NAME', 'afternoons', ',', 'his', 'company', 'does', 'its', 'best', 'to', 'accommodate', 'him', 'by', 'not', 'holding', 'meetings', 'that', 'involve', 'him', 'on', 'that', 'day', 'of', 'the', 'week', '.']\n",
      "\n",
      "\n",
      "Original sentence:  ['Still', ',', 'sometimes', 'nothing', 'can', 'be', 'done', ',', 'such', 'as', 'the', 'time', 'that', 'she', 'had', 'a', 'meeting', 'in', 'Hong', 'Kong', 'early', 'one', 'Friday', 'morning', ',', 'forcing', 'her', 'to', 'miss', 'class', 'on', 'Thursday', 'while', 'she', 'flew', 'to', 'Hong', 'Kong', '.']\n",
      "Swapped sentence:  ['still', ',', 'sometimes', 'nothing', 'can', 'be', 'done', ',', 'such', 'as', 'the', 'time', 'that', 'he', 'had', 'a', 'meeting', 'in', 'NAME', 'NAME', 'early', 'one', 'NAME', 'morning', ',', 'forcing', 'him', 'to', 'miss', 'class', 'on', 'NAME', 'while', 'he', 'flew', 'to', 'NAME', 'NAME', '.']\n",
      "\n",
      "\n"
     ]
    }
   ],
   "source": [
    "# check swapping for first 5 sentences\n",
    "for idx in range(5):\n",
    "    print(\"Original sentence: \", gendered_sentences[idx][1])\n",
    "    print(\"Swapped sentence: \", swapped_sentences[idx])\n",
    "    print(\"\\n\")"
   ]
  }
 ],
 "metadata": {
  "kernelspec": {
   "display_name": "Python 3 (ipykernel)",
   "language": "python",
   "name": "python3"
  },
  "language_info": {
   "codemirror_mode": {
    "name": "ipython",
    "version": 3
   },
   "file_extension": ".py",
   "mimetype": "text/x-python",
   "name": "python",
   "nbconvert_exporter": "python",
   "pygments_lexer": "ipython3",
   "version": "3.9.12"
  }
 },
 "nbformat": 4,
 "nbformat_minor": 5
}
