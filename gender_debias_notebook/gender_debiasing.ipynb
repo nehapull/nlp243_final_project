{
 "cells": [
  {
   "cell_type": "markdown",
   "id": "qzQfUKzG8bO8",
   "metadata": {
    "id": "qzQfUKzG8bO8"
   },
   "source": [
    "Import libraries"
   ]
  },
  {
   "cell_type": "markdown",
   "id": "5ford9O-8muM",
   "metadata": {
    "id": "5ford9O-8muM"
   },
   "source": [
    "Install dependencies"
   ]
  },
  {
   "cell_type": "code",
   "execution_count": null,
   "id": "Ko3fRcut8mNi",
   "metadata": {
    "id": "Ko3fRcut8mNi"
   },
   "outputs": [],
   "source": [
    "!pip install allennlp_models\n",
    "!pip install transformers"
   ]
  },
  {
   "cell_type": "code",
   "execution_count": 1,
   "id": "19328c7c",
   "metadata": {
    "id": "19328c7c"
   },
   "outputs": [
    {
     "name": "stderr",
     "output_type": "stream",
     "text": [
      "[nltk_data] Downloading package averaged_perceptron_tagger to\n",
      "[nltk_data]     /Users/nehapullabhotla/nltk_data...\n",
      "[nltk_data]   Package averaged_perceptron_tagger is already up-to-\n",
      "[nltk_data]       date!\n"
     ]
    }
   ],
   "source": [
    "import pandas as pd\n",
    "import numpy as np\n",
    "import csv\n",
    "import json\n",
    "import re\n",
    "import torch\n",
    "from itertools import chain\n",
    "\n",
    "%matplotlib inline\n",
    "import seaborn as sns\n",
    "import matplotlib.pyplot as plt\n",
    "\n",
    "# allennlp to download OntoNotes\n",
    "from allennlp_models.common.ontonotes import Ontonotes\n",
    "\n",
    "# sklearn libraries\n",
    "from sklearn.metrics import f1_score\n",
    "\n",
    "# progress bar\n",
    "from tqdm import tqdm\n",
    "\n",
    "# nltk libraries\n",
    "import nltk\n",
    "nltk.download('averaged_perceptron_tagger')\n",
    "\n",
    "# spacy libraries\n",
    "import spacy\n",
    "import spacy.cli\n",
    "\n",
    "# pytorch libraries\n",
    "from torch.utils.data import TensorDataset, DataLoader\n",
    "from transformers import BertForMaskedLM, AdamW\n",
    "from transformers import get_linear_schedule_with_warmup"
   ]
  },
  {
   "cell_type": "code",
   "execution_count": null,
   "id": "355e962d",
   "metadata": {
    "id": "355e962d",
    "outputId": "2229da96-e0ba-49d5-d9c9-7ce3dc104919"
   },
   "outputs": [
    {
     "name": "stdout",
     "output_type": "stream",
     "text": [
      "Using device: cuda:4\n"
     ]
    }
   ],
   "source": [
    "# setup device based on availability\n",
    "device = \"cuda:4\" if torch.cuda.is_available() else \"cpu\"\n",
    "print(\"Using device: {}\".format(device))"
   ]
  },
  {
   "cell_type": "markdown",
   "id": "5f2df693",
   "metadata": {},
   "source": [
    "## Data Augmentation"
   ]
  },
  {
   "cell_type": "markdown",
   "id": "6pw0Ua8z89SS",
   "metadata": {
    "id": "6pw0Ua8z89SS"
   },
   "source": [
    "## Load train and validation data"
   ]
  },
  {
   "cell_type": "code",
   "execution_count": null,
   "id": "63076379",
   "metadata": {
    "id": "63076379"
   },
   "outputs": [],
   "source": [
    "# load the data using allennlp's ontonotes iterator\n",
    "class LoadData():\n",
    "    def __init__(self, path):\n",
    "        self.path = path\n",
    "        self.all_sentences = []\n",
    "        self.all_sentences_pos = []\n",
    "    # store the data into lists\n",
    "    def get_data(self):\n",
    "        onto = Ontonotes()\n",
    "        ds = onto.dataset_iterator(self.path)\n",
    "        for x in ds:\n",
    "            sentences = x.words\n",
    "            pos_tags = x.pos_tags\n",
    "            self.all_sentences.append(sentences)\n",
    "            self.all_sentences_pos.append(pos_tags)\n",
    "        return self.all_sentences, self.all_sentences_pos"
   ]
  },
  {
   "cell_type": "code",
   "execution_count": null,
   "id": "17548d98",
   "metadata": {
    "id": "17548d98"
   },
   "outputs": [],
   "source": [
    "# load the train data\n",
    "train_data_path = '../data/ontonotes_data/train/data/english/annotations'\n",
    "train_data = LoadData(train_data_path)\n",
    "# retrieve the sentences from the train data & their corresponding\n",
    "# POS tags\n",
    "train_sent, train_sent_pos = train_data.get_data()"
   ]
  },
  {
   "cell_type": "code",
   "execution_count": null,
   "id": "7c1faa2f",
   "metadata": {
    "id": "7c1faa2f"
   },
   "outputs": [],
   "source": [
    "# load the validation data\n",
    "dev_data_path = '../data/ontonotes_data/development/data/english/annotations'\n",
    "val_data = LoadData(dev_data_path)\n",
    "# retrieve the sentences from the train data & their corresponding\n",
    "# POS tags\n",
    "val_sent, val_sent_pos = val_data.get_data()"
   ]
  },
  {
   "cell_type": "code",
   "execution_count": null,
   "id": "a1b27f6d",
   "metadata": {
    "id": "a1b27f6d",
    "outputId": "f6dcb8f9-3dac-4d5d-a2ff-9c27d5009a0f"
   },
   "outputs": [
    {
     "name": "stdout",
     "output_type": "stream",
     "text": [
      "Number of sentences in train data:  115812\n"
     ]
    }
   ],
   "source": [
    "print(\"Number of sentences in train data: \", len(train_sent))"
   ]
  },
  {
   "cell_type": "code",
   "execution_count": null,
   "id": "e8614817",
   "metadata": {
    "id": "e8614817",
    "outputId": "c7c48048-9de7-449e-8dbc-f1b99964fefb"
   },
   "outputs": [
    {
     "name": "stdout",
     "output_type": "stream",
     "text": [
      "Number of sentences in validation data:  15680\n"
     ]
    }
   ],
   "source": [
    "print(\"Number of sentences in validation data: \", len(val_sent))"
   ]
  },
  {
   "cell_type": "markdown",
   "id": "e988d90d",
   "metadata": {
    "id": "e988d90d"
   },
   "source": [
    "Class for data pre-processing for augmentation\n",
    "\n",
    "\n",
    "*   Extracts the gendered sentences\n",
    "*   Flips the pronouns based on POS tags\n",
    "*   Flips gendered vocabulary\n",
    "*   Anonymize names\n",
    "*   Mask the pronouns that need predicting\n",
    "\n",
    "\n",
    "\n"
   ]
  },
  {
   "cell_type": "code",
   "execution_count": null,
   "id": "44daecf8",
   "metadata": {
    "id": "44daecf8"
   },
   "outputs": [],
   "source": [
    "class PrepareDataForAugmentation():\n",
    "    def __init__(self, data, data_pos_tags):\n",
    "        self.data = data\n",
    "        self.pos_tags = data_pos_tags\n",
    "        self.gendered_sentences = []\n",
    "        self.gendered_sentences_pos = []\n",
    "        self.word_mapping_male_2_female = {}\n",
    "        self.word_mapping_female_2_male = {}\n",
    "        self.swapped_sentences = []\n",
    "        self.original_sentences = []\n",
    "        self.masked_orig_sentences = []\n",
    "        self.masked_swapped_sentences = []\n",
    "\n",
    "    # Extract the gendered sentences here\n",
    "    # using the pronoun list    \n",
    "    def extract_gendered_sentences(self):\n",
    "        pronoun_list = [\"he\" \"him\", \"his\", \"her\", \"she\"]\n",
    "        for idx, sentence in enumerate(self.data):\n",
    "            for word in sentence:\n",
    "                if word in pronoun_list:\n",
    "                    # gendered pronoun present\n",
    "                    self.gendered_sentences.append((idx, sentence))\n",
    "                    break\n",
    "    # store the extracted gendered sentence POS tags\n",
    "    def extract_gendered_sent_pos_tags(self):\n",
    "        for idx, sent in self.gendered_sentences:\n",
    "            self.gendered_sentences_pos.append(self.pos_tags[idx])\n",
    "\n",
    "    # retrieve the gendered vocabulary mappings from the data file        \n",
    "    def create_word_male_female_mappings(self):\n",
    "        # load male to female mapping for gender-specific words\n",
    "        word_data = None\n",
    "        with open('../data/cda_default_pairs.json', 'r') as f:\n",
    "            word_data = json.load(f)\n",
    "        \n",
    "        # convert to a dict for easier mapping\n",
    "        for mapping in word_data:\n",
    "            self.word_mapping_male_2_female[mapping[0]] = mapping[1]\n",
    "        self.word_mapping_female_2_male = \\\n",
    "            {value: key for key, value in self.word_mapping_male_2_female.items()}\n",
    "        \n",
    "    # this is where we check the POS tags and\n",
    "    # flip the pronouns as appropriate    \n",
    "    def swap_gendered_words(self, sentence, pos_tags):\n",
    "        flipped_sentence = []\n",
    "        original_sentence = []\n",
    "        for idx, word in enumerate(sentence):\n",
    "            pos_tag = pos_tags[idx]\n",
    "            # swap the pronouns\n",
    "            if word == \"him\":\n",
    "                flipped_sentence.append(\"her\")\n",
    "                original_sentence.append(word)\n",
    "            elif word == \"his\" and pos_tag == \"NNS\":\n",
    "                flipped_sentence.append(\"hers\")\n",
    "                original_sentence.append(word)\n",
    "            elif word == \"his\" and (pos_tag == \"PRP\" or pos_tag == \"PRP$\"):\n",
    "                flipped_sentence.append(\"her\")\n",
    "                original_sentence.append(word)\n",
    "            elif word == \"her\" and pos_tag == \"PRP$\":\n",
    "                flipped_sentence.append(\"his\")\n",
    "                original_sentence.append(word)\n",
    "            elif word == \"her\" and pos_tag == \"PRP\":\n",
    "                flipped_sentence.append(\"him\")\n",
    "                original_sentence.append(word)\n",
    "            elif word == \"hers\":\n",
    "                flipped_sentence.append(\"his\")\n",
    "                original_sentence.append(word)\n",
    "            # swap the gendered vocab\n",
    "            elif word in self.word_mapping_male_2_female.keys():\n",
    "                flipped_sentence.append(self.word_mapping_male_2_female[word])\n",
    "                original_sentence.append(word)\n",
    "            elif word in self.word_mapping_female_2_male.keys():\n",
    "                flipped_sentence.append(self.word_mapping_female_2_male[word])\n",
    "                original_sentence.append(word)\n",
    "            # anonymize names\n",
    "            elif pos_tag == \"NNP\":\n",
    "                # replace with a mask\n",
    "                flipped_sentence.append(\"[NAME]\")\n",
    "                original_sentence.append(\"[NAME]\")\n",
    "            else:\n",
    "                flipped_sentence.append(word)\n",
    "                original_sentence.append(word)\n",
    "\n",
    "        return original_sentence, flipped_sentence\n",
    "    \n",
    "    # lower case all sentences for consistency\n",
    "    def lower_case_sentences(self, sentence):\n",
    "        sentence = [word.lower() for word in sentence]\n",
    "        return sentence\n",
    "\n",
    "    # do the swapping here and store the resulting\n",
    "    # data in lists\n",
    "    def swap_sentences(self):\n",
    "        print(\"In swap sentences...\")\n",
    "        swapped_sentences = []\n",
    "        original_sentences = []\n",
    "        for idx, sentence in enumerate(self.gendered_sentences):\n",
    "            sentence = self.lower_case_sentences(sentence[1])\n",
    "            original_sent, swapped_sent = \\\n",
    "                self.swap_gendered_words(sentence, self.gendered_sentences_pos[idx])\n",
    "            swapped_sentences.append(swapped_sent)\n",
    "            original_sentences.append(original_sent)\n",
    "            \n",
    "        return original_sentences, swapped_sentences\n",
    "    \n",
    "    def generate_swapped_sentences(self):\n",
    "        self.extract_gendered_sentences()\n",
    "        self.extract_gendered_sent_pos_tags()\n",
    "        self.create_word_male_female_mappings()\n",
    "        self.original_sentences, self.swapped_sentences = \\\n",
    "            self.swap_sentences()\n",
    "        return self.original_sentences, self.swapped_sentences\n",
    "    \n",
    "    # we combine the original and swapped sentences so\n",
    "    # that we can do the masking of the gendered pronouns\n",
    "    # on them\n",
    "    def combine_gendered_swapped_sentences(self):\n",
    "        combined_original_sentences = []\n",
    "        combined_swapped_sentences = []\n",
    "        for sent in self.original_sentences:\n",
    "            combined_original_sentences.append(' '.join(sent))\n",
    "        for sent in self.swapped_sentences:\n",
    "            combined_swapped_sentences.append(' '.join(sent))\n",
    "        return combined_original_sentences, combined_swapped_sentences\n",
    "    \n",
    "    # Used to mask the gender pronouns, so that we can predict these\n",
    "    # using our model\n",
    "    def replace_pronouns(self, data):\n",
    "        masked_sentences = []\n",
    "        for sent in data:\n",
    "            sent = sent.lower()\n",
    "            pronoun_regex = r\"\\bhis\\b|\\bher\\b|\\bhim\\b|\\bshe\\b|\\bhe\\b|\\bhers\\b\"\n",
    "            matched_strings = re.findall(pronoun_regex, sent)\n",
    "            for gender_pronoun in matched_strings:\n",
    "                pronoun = gender_pronoun\n",
    "                masked_sent = re.sub(pronoun_regex, \"[MASK]\", sent)\n",
    "                masked_sentences.append([masked_sent, pronoun])\n",
    "        return masked_sentences\n",
    "    \n",
    "    def mask_gender_pronouns(self):\n",
    "        orig_sentences, swapped_sentences = \\\n",
    "            self.combine_gendered_swapped_sentences()\n",
    "        self.masked_original_sentences = self.replace_pronouns(orig_sentences)\n",
    "        self.masked_swapped_sentences = self.replace_pronouns(swapped_sentences)"
   ]
  },
  {
   "cell_type": "code",
   "execution_count": null,
   "id": "cb70ffc9",
   "metadata": {
    "id": "cb70ffc9",
    "outputId": "741b5a9f-192a-4221-843b-5849b8f9386b"
   },
   "outputs": [
    {
     "name": "stdout",
     "output_type": "stream",
     "text": [
      "In swap sentences...\n"
     ]
    }
   ],
   "source": [
    "# create original and swapped data on the train\n",
    "train_processed_data = PrepareDataForAugmentation(train_sent, train_sent_pos)\n",
    "train_swapped_sentences = train_processed_data.generate_swapped_sentences()"
   ]
  },
  {
   "cell_type": "code",
   "execution_count": null,
   "id": "a1d92712",
   "metadata": {
    "id": "a1d92712",
    "outputId": "4fc79be2-855c-4fb7-f82c-64ab13d61f32"
   },
   "outputs": [
    {
     "name": "stdout",
     "output_type": "stream",
     "text": [
      "['[NAME]', 'tells', 'his', 'students', 'that', 'if', 'they', 'put', 'other', 'things', 'aside', 'and', 'concentrate', 'on', 'their', 'studies', 'for', 'three', 'weeks', ',', 'maybe', 'they', \"'ll\", 'find', 'the', 'answer', 'themselves', '.']\n"
     ]
    }
   ],
   "source": [
    "# sanity check\n",
    "print(train_processed_data.original_sentences[10])"
   ]
  },
  {
   "cell_type": "code",
   "execution_count": null,
   "id": "c92e0e11",
   "metadata": {
    "id": "c92e0e11",
    "outputId": "4cf0b810-cee9-4be8-d93d-dda01f7e9de1"
   },
   "outputs": [
    {
     "name": "stdout",
     "output_type": "stream",
     "text": [
      "In swap sentences...\n"
     ]
    }
   ],
   "source": [
    "# create original and swapped data on the train\n",
    "val_processed_data = PrepareDataForAugmentation(val_sent, val_sent_pos)\n",
    "val_swapped_sentences = val_processed_data.generate_swapped_sentences()"
   ]
  },
  {
   "cell_type": "code",
   "execution_count": null,
   "id": "dd97fa3b",
   "metadata": {
    "id": "dd97fa3b"
   },
   "outputs": [],
   "source": [
    "# mask the gendered pronouns in the sentences\n",
    "train_processed_data.mask_gender_pronouns()\n",
    "val_processed_data.mask_gender_pronouns()"
   ]
  },
  {
   "cell_type": "code",
   "execution_count": null,
   "id": "ec1ab1ec",
   "metadata": {
    "id": "ec1ab1ec",
    "outputId": "a2dc37f8-2989-4403-a17d-2ba969b1ee4a"
   },
   "outputs": [
    {
     "data": {
      "text/plain": [
       "['[name] relates that as a youth [MASK] studied because [MASK] was forced to , but now [MASK] motivations for learning are far greater - so great in fact that [MASK] registered for three classes at the start of the semester , a decision [MASK] has come to regret for lack of time .',\n",
       " 'she']"
      ]
     },
     "execution_count": 15,
     "metadata": {},
     "output_type": "execute_result"
    }
   ],
   "source": [
    "# sanity check\n",
    "train_processed_data.masked_swapped_sentences[0]"
   ]
  },
  {
   "cell_type": "code",
   "execution_count": null,
   "id": "0fba5bde",
   "metadata": {
    "id": "0fba5bde",
    "outputId": "b4778cac-5466-4c02-f4c5-16e4768b5bea"
   },
   "outputs": [
    {
     "data": {
      "text/plain": [
       "['on [name] 25 [name] [name] [name] - [name] wrapped up [MASK] first overseas trip since taking office , swinging through three countries in [name] [name] and another three in [name] .',\n",
       " 'his']"
      ]
     },
     "execution_count": 16,
     "metadata": {},
     "output_type": "execute_result"
    }
   ],
   "source": [
    "val_processed_data.masked_original_sentences[0]"
   ]
  },
  {
   "cell_type": "code",
   "execution_count": null,
   "id": "fb36e8f8",
   "metadata": {
    "id": "fb36e8f8",
    "outputId": "d0ec29fe-2606-4653-acd4-362509feff1b"
   },
   "outputs": [
    {
     "data": {
      "text/plain": [
       "(13915, 13915)"
      ]
     },
     "execution_count": 17,
     "metadata": {},
     "output_type": "execute_result"
    }
   ],
   "source": [
    "# the lengths of original and swapped data should be the same\n",
    "len(train_processed_data.masked_swapped_sentences), len(train_processed_data.masked_original_sentences)"
   ]
  },
  {
   "cell_type": "markdown",
   "id": "2cd41698",
   "metadata": {
    "id": "2cd41698"
   },
   "source": [
    "Exploratory Data Analysis"
   ]
  },
  {
   "cell_type": "code",
   "execution_count": null,
   "id": "1a94eb59",
   "metadata": {
    "id": "1a94eb59"
   },
   "outputs": [],
   "source": [
    "# store the data into pandas dataframe\n",
    "train_original_data = pd.DataFrame(train_processed_data.masked_original_sentences, columns=['text', 'pronouns'])\n",
    "train_flipped_data = pd.DataFrame(train_processed_data.masked_swapped_sentences, columns=['text', 'pronouns'])\n",
    "val_original_data = pd.DataFrame(val_processed_data.masked_original_sentences, columns=['text', 'pronouns'])\n",
    "val_flipped_data = pd.DataFrame(val_processed_data.masked_swapped_sentences, columns=['text', 'pronouns'])"
   ]
  },
  {
   "cell_type": "code",
   "execution_count": null,
   "id": "56c4212e",
   "metadata": {
    "id": "56c4212e",
    "outputId": "e717699b-9745-4aa3-a07d-7e25397d09fe"
   },
   "outputs": [
    {
     "data": {
      "text/html": [
       "<div>\n",
       "<style scoped>\n",
       "    .dataframe tbody tr th:only-of-type {\n",
       "        vertical-align: middle;\n",
       "    }\n",
       "\n",
       "    .dataframe tbody tr th {\n",
       "        vertical-align: top;\n",
       "    }\n",
       "\n",
       "    .dataframe thead th {\n",
       "        text-align: right;\n",
       "    }\n",
       "</style>\n",
       "<table border=\"1\" class=\"dataframe\">\n",
       "  <thead>\n",
       "    <tr style=\"text-align: right;\">\n",
       "      <th></th>\n",
       "      <th>text</th>\n",
       "      <th>pronouns</th>\n",
       "    </tr>\n",
       "  </thead>\n",
       "  <tbody>\n",
       "    <tr>\n",
       "      <th>count</th>\n",
       "      <td>13915</td>\n",
       "      <td>13915</td>\n",
       "    </tr>\n",
       "    <tr>\n",
       "      <th>unique</th>\n",
       "      <td>8241</td>\n",
       "      <td>6</td>\n",
       "    </tr>\n",
       "    <tr>\n",
       "      <th>top</th>\n",
       "      <td>when [MASK] reached the river xanthus , which ...</td>\n",
       "      <td>his</td>\n",
       "    </tr>\n",
       "    <tr>\n",
       "      <th>freq</th>\n",
       "      <td>14</td>\n",
       "      <td>6219</td>\n",
       "    </tr>\n",
       "  </tbody>\n",
       "</table>\n",
       "</div>"
      ],
      "text/plain": [
       "                                                     text pronouns\n",
       "count                                               13915    13915\n",
       "unique                                               8241        6\n",
       "top     when [MASK] reached the river xanthus , which ...      his\n",
       "freq                                                   14     6219"
      ]
     },
     "execution_count": 19,
     "metadata": {},
     "output_type": "execute_result"
    }
   ],
   "source": [
    "# Exploratory data analysis\n",
    "train_original_data.describe()"
   ]
  },
  {
   "cell_type": "code",
   "execution_count": null,
   "id": "9a922375",
   "metadata": {
    "id": "9a922375",
    "outputId": "5216a370-6a6b-4a99-d12b-19c602b41d37"
   },
   "outputs": [
    {
     "data": {
      "text/plain": [
       "True"
      ]
     },
     "execution_count": 20,
     "metadata": {},
     "output_type": "execute_result"
    }
   ],
   "source": [
    "len(train_original_data) == len(train_flipped_data)"
   ]
  },
  {
   "cell_type": "code",
   "execution_count": null,
   "id": "2884719b",
   "metadata": {
    "id": "2884719b",
    "outputId": "f46cf76f-73d7-4bf4-ee6b-18f602641e9f"
   },
   "outputs": [
    {
     "data": {
      "text/plain": [
       "((13915, 2), (13915, 2))"
      ]
     },
     "execution_count": 21,
     "metadata": {},
     "output_type": "execute_result"
    }
   ],
   "source": [
    "train_original_data.shape, train_flipped_data.shape"
   ]
  },
  {
   "cell_type": "code",
   "execution_count": null,
   "id": "54c1d496",
   "metadata": {
    "id": "54c1d496",
    "outputId": "7cb700a9-b7d5-4af2-f49b-4edcf41e1ea1"
   },
   "outputs": [
    {
     "data": {
      "text/plain": [
       "his     6219\n",
       "he      2538\n",
       "she     2310\n",
       "her     2188\n",
       "him      654\n",
       "hers       6\n",
       "Name: pronouns, dtype: int64"
      ]
     },
     "execution_count": 22,
     "metadata": {},
     "output_type": "execute_result"
    }
   ],
   "source": [
    "train_original_data.pronouns.value_counts()"
   ]
  },
  {
   "cell_type": "code",
   "execution_count": null,
   "id": "44601a56",
   "metadata": {
    "id": "44601a56",
    "outputId": "48a60118-d80b-4f30-cd41-8bf66227befc"
   },
   "outputs": [
    {
     "data": {
      "text/plain": [
       "her    6672\n",
       "she    2538\n",
       "he     2310\n",
       "his    1678\n",
       "him     717\n",
       "Name: pronouns, dtype: int64"
      ]
     },
     "execution_count": 23,
     "metadata": {},
     "output_type": "execute_result"
    }
   ],
   "source": [
    "train_flipped_data.pronouns.value_counts()"
   ]
  },
  {
   "cell_type": "code",
   "execution_count": null,
   "id": "1438dca0",
   "metadata": {
    "id": "1438dca0"
   },
   "outputs": [],
   "source": [
    "# drop duplicate rows\n",
    "train_original_data = train_original_data.drop_duplicates(keep='first')\n",
    "train_flipped_data = train_flipped_data.drop_duplicates(keep='first')\n",
    "val_original_data = val_original_data.drop_duplicates(keep='first')\n",
    "val_flipped_data = val_flipped_data.drop_duplicates(keep='first')"
   ]
  },
  {
   "cell_type": "code",
   "execution_count": null,
   "id": "c28993e0",
   "metadata": {
    "id": "c28993e0",
    "outputId": "5c5e467b-b167-46e2-de06-c035b3f1d2a6"
   },
   "outputs": [
    {
     "data": {
      "text/plain": [
       "((11575, 2), (11226, 2))"
      ]
     },
     "execution_count": 25,
     "metadata": {},
     "output_type": "execute_result"
    }
   ],
   "source": [
    "train_original_data.shape, train_flipped_data.shape"
   ]
  },
  {
   "cell_type": "markdown",
   "id": "vjrPr5H6_BVB",
   "metadata": {
    "id": "vjrPr5H6_BVB"
   },
   "source": [
    "### Exploratory Data Analysis"
   ]
  },
  {
   "cell_type": "code",
   "execution_count": null,
   "id": "9ddfd88a",
   "metadata": {
    "id": "9ddfd88a",
    "outputId": "d27c0d3a-b6f1-4ef4-c3ab-192053155c0a"
   },
   "outputs": [
    {
     "data": {
      "text/html": [
       "<div>\n",
       "<style scoped>\n",
       "    .dataframe tbody tr th:only-of-type {\n",
       "        vertical-align: middle;\n",
       "    }\n",
       "\n",
       "    .dataframe tbody tr th {\n",
       "        vertical-align: top;\n",
       "    }\n",
       "\n",
       "    .dataframe thead th {\n",
       "        text-align: right;\n",
       "    }\n",
       "</style>\n",
       "<table border=\"1\" class=\"dataframe\">\n",
       "  <thead>\n",
       "    <tr style=\"text-align: right;\">\n",
       "      <th></th>\n",
       "      <th>text</th>\n",
       "      <th>pronouns</th>\n",
       "      <th>length</th>\n",
       "    </tr>\n",
       "  </thead>\n",
       "  <tbody>\n",
       "    <tr>\n",
       "      <th>0</th>\n",
       "      <td>[name] relates that as a youth [MASK] studied ...</td>\n",
       "      <td>he</td>\n",
       "      <td>279</td>\n",
       "    </tr>\n",
       "    <tr>\n",
       "      <th>2</th>\n",
       "      <td>[name] relates that as a youth [MASK] studied ...</td>\n",
       "      <td>his</td>\n",
       "      <td>279</td>\n",
       "    </tr>\n",
       "    <tr>\n",
       "      <th>5</th>\n",
       "      <td>ever since graduating with a degree in mechani...</td>\n",
       "      <td>his</td>\n",
       "      <td>224</td>\n",
       "    </tr>\n",
       "    <tr>\n",
       "      <th>6</th>\n",
       "      <td>[name] [name] - [name] , a researcher at the [...</td>\n",
       "      <td>his</td>\n",
       "      <td>247</td>\n",
       "    </tr>\n",
       "    <tr>\n",
       "      <th>7</th>\n",
       "      <td>[MASK] divides [MASK] schedule into three - mo...</td>\n",
       "      <td>she</td>\n",
       "      <td>221</td>\n",
       "    </tr>\n",
       "  </tbody>\n",
       "</table>\n",
       "</div>"
      ],
      "text/plain": [
       "                                                text pronouns  length\n",
       "0  [name] relates that as a youth [MASK] studied ...       he     279\n",
       "2  [name] relates that as a youth [MASK] studied ...      his     279\n",
       "5  ever since graduating with a degree in mechani...      his     224\n",
       "6  [name] [name] - [name] , a researcher at the [...      his     247\n",
       "7  [MASK] divides [MASK] schedule into three - mo...      she     221"
      ]
     },
     "execution_count": 26,
     "metadata": {},
     "output_type": "execute_result"
    }
   ],
   "source": [
    "# find the lengths of the sentences in the original train data\n",
    "train_original_data['length'] = train_original_data['text'].map(lambda text: len(text))\n",
    "train_original_data.head()"
   ]
  },
  {
   "cell_type": "markdown",
   "id": "igfmcHIc_I_X",
   "metadata": {
    "id": "igfmcHIc_I_X"
   },
   "source": [
    "What is the average sentence length?"
   ]
  },
  {
   "cell_type": "code",
   "execution_count": null,
   "id": "964e36e9",
   "metadata": {
    "id": "964e36e9",
    "outputId": "b809eddc-7e40-4b39-bce9-94d219c75801"
   },
   "outputs": [
    {
     "name": "stdout",
     "output_type": "stream",
     "text": [
      "The average length of a sentence is: 133.82704103671705\n"
     ]
    },
    {
     "data": {
      "image/png": "[encoded data removed]",
      "text/plain": [
       "<Figure size 800x600 with 1 Axes>"
      ]
     },
     "metadata": {},
     "output_type": "display_data"
    }
   ],
   "source": [
    "text_length = train_original_data.length.values\n",
    "mean_length = np.mean(text_length)\n",
    "print (\"The average length of a sentence is: %s\" % (mean_length))\n",
    "\n",
    "fig = plt.figure(figsize=(8,6))\n",
    "ax = fig.gca()\n",
    "# Look at the distribution of the data\n",
    "ax = sns.histplot(x=text_length, bins=40, ax=ax, kde=False)\n",
    "ax.axvline(mean_length, lw=4, ls='dashed', color='black')\n",
    "ax.set(xlabel='Sentence Length')\n",
    "plt.show()"
   ]
  },
  {
   "cell_type": "markdown",
   "id": "Ofw_lzCo_NWF",
   "metadata": {
    "id": "Ofw_lzCo_NWF"
   },
   "source": [
    "What is the distribution of the gender pronouns?"
   ]
  },
  {
   "cell_type": "code",
   "execution_count": null,
   "id": "9cd77068",
   "metadata": {
    "id": "9cd77068",
    "outputId": "04cc1058-2a56-4ff7-827d-e60c5d472ac4"
   },
   "outputs": [
    {
     "name": "stdout",
     "output_type": "stream",
     "text": [
      "Total pronoun counts =  5343\n"
     ]
    },
    {
     "data": {
      "image/png": "[encoded data removed]",
      "text/plain": [
       "<Figure size 640x480 with 1 Axes>"
      ]
     },
     "metadata": {},
     "output_type": "display_data"
    }
   ],
   "source": [
    "train_original_data['pronouns'].value_counts()\n",
    "print(\"Total pronoun counts = \", train_original_data['pronouns'].value_counts()[0])\n",
    "ax = sns.countplot(x=train_original_data['pronouns']).set(title='Original data pronouns distribution')"
   ]
  },
  {
   "cell_type": "markdown",
   "id": "UuFleVW7_Qni",
   "metadata": {
    "id": "UuFleVW7_Qni"
   },
   "source": [
    "What is the distribution of gendered pronouns in the swapped data?"
   ]
  },
  {
   "cell_type": "code",
   "execution_count": null,
   "id": "548511ec",
   "metadata": {
    "id": "548511ec",
    "outputId": "7287833f-8e0e-4e66-9fd2-4146f470e70e"
   },
   "outputs": [
    {
     "name": "stdout",
     "output_type": "stream",
     "text": [
      "Total pronoun counts =  5281\n"
     ]
    },
    {
     "data": {
      "image/png": "[encoded data removed]",
      "text/plain": [
       "<Figure size 640x480 with 1 Axes>"
      ]
     },
     "metadata": {},
     "output_type": "display_data"
    }
   ],
   "source": [
    "train_flipped_data['pronouns'].value_counts()\n",
    "print(\"Total pronoun counts = \", train_flipped_data['pronouns'].value_counts()[0])\n",
    "ax = sns.countplot(x=train_flipped_data['pronouns']).set(title='Swapped data pronouns distribution')"
   ]
  },
  {
   "cell_type": "markdown",
   "id": "dUyv3aMM_ViX",
   "metadata": {
    "id": "dUyv3aMM_ViX"
   },
   "source": [
    "Load the testing dataset - Winogender data"
   ]
  },
  {
   "cell_type": "code",
   "execution_count": null,
   "id": "1474b093",
   "metadata": {
    "id": "1474b093"
   },
   "outputs": [],
   "source": [
    "def load_winogender_data(path):\n",
    "    winogender_data = []\n",
    "    with open(path) as f:\n",
    "        for line in f:\n",
    "            winogender_data.append(line.rstrip())\n",
    "    return winogender_data\n",
    "\n",
    "def load_occupation_stats(path):\n",
    "    occupation_stats = pd.read_csv(path, sep='\\t')\n",
    "    return occupation_stats"
   ]
  },
  {
   "cell_type": "code",
   "execution_count": null,
   "id": "f5096217",
   "metadata": {
    "id": "f5096217"
   },
   "outputs": [],
   "source": [
    "test_data_path = 'processed_wino_data.txt'\n",
    "winogender_data_list = load_winogender_data(test_data_path)\n",
    "occupation_stats_path = 'occupations-stats.tsv'\n",
    "occupation_stats_df = load_occupation_stats(occupation_stats_path)\n",
    "winogender_data = pd.DataFrame(winogender_data_list, columns=['sentence'])\n",
    "winogender_data = winogender_data.merge(occupation_stats_df[['occupation', 'bls_pct_female']],\n",
    "                                        how='outer', left_index=True, \n",
    "                                        right_index=True)"
   ]
  },
  {
   "cell_type": "code",
   "execution_count": null,
   "id": "87a1db8a",
   "metadata": {
    "id": "87a1db8a",
    "outputId": "ded91a8f-04f7-4aea-f7cd-104f9b3dc631"
   },
   "outputs": [
    {
     "data": {
      "text/html": [
       "<div>\n",
       "<style scoped>\n",
       "    .dataframe tbody tr th:only-of-type {\n",
       "        vertical-align: middle;\n",
       "    }\n",
       "\n",
       "    .dataframe tbody tr th {\n",
       "        vertical-align: top;\n",
       "    }\n",
       "\n",
       "    .dataframe thead th {\n",
       "        text-align: right;\n",
       "    }\n",
       "</style>\n",
       "<table border=\"1\" class=\"dataframe\">\n",
       "  <thead>\n",
       "    <tr style=\"text-align: right;\">\n",
       "      <th></th>\n",
       "      <th>sentence</th>\n",
       "      <th>occupation</th>\n",
       "      <th>bls_pct_female</th>\n",
       "    </tr>\n",
       "  </thead>\n",
       "  <tbody>\n",
       "    <tr>\n",
       "      <th>0</th>\n",
       "      <td>The [technician] told the customer that [he] h...</td>\n",
       "      <td>technician</td>\n",
       "      <td>40.34</td>\n",
       "    </tr>\n",
       "    <tr>\n",
       "      <th>1</th>\n",
       "      <td>The taxpayer met with the [accountant] to find...</td>\n",
       "      <td>accountant</td>\n",
       "      <td>59.70</td>\n",
       "    </tr>\n",
       "    <tr>\n",
       "      <th>2</th>\n",
       "      <td>The employee gave the [supervisor] feedback on...</td>\n",
       "      <td>supervisor</td>\n",
       "      <td>38.64</td>\n",
       "    </tr>\n",
       "    <tr>\n",
       "      <th>3</th>\n",
       "      <td>The [engineer] informed the client that [he] w...</td>\n",
       "      <td>engineer</td>\n",
       "      <td>10.72</td>\n",
       "    </tr>\n",
       "    <tr>\n",
       "      <th>4</th>\n",
       "      <td>The [worker] told the pedestrian that [he] was...</td>\n",
       "      <td>worker</td>\n",
       "      <td>37.92</td>\n",
       "    </tr>\n",
       "  </tbody>\n",
       "</table>\n",
       "</div>"
      ],
      "text/plain": [
       "                                            sentence  occupation  \\\n",
       "0  The [technician] told the customer that [he] h...  technician   \n",
       "1  The taxpayer met with the [accountant] to find...  accountant   \n",
       "2  The employee gave the [supervisor] feedback on...  supervisor   \n",
       "3  The [engineer] informed the client that [he] w...    engineer   \n",
       "4  The [worker] told the pedestrian that [he] was...      worker   \n",
       "\n",
       "   bls_pct_female  \n",
       "0           40.34  \n",
       "1           59.70  \n",
       "2           38.64  \n",
       "3           10.72  \n",
       "4           37.92  "
      ]
     },
     "execution_count": 32,
     "metadata": {},
     "output_type": "execute_result"
    }
   ],
   "source": [
    "winogender_data.head()"
   ]
  },
  {
   "cell_type": "code",
   "execution_count": null,
   "id": "87bc5b52",
   "metadata": {
    "id": "87bc5b52",
    "outputId": "b05e8930-22a0-4f1c-da68-8e57ba9086eb"
   },
   "outputs": [
    {
     "data": {
      "text/plain": [
       "60"
      ]
     },
     "execution_count": 33,
     "metadata": {},
     "output_type": "execute_result"
    }
   ],
   "source": [
    "len(winogender_data['occupation'])"
   ]
  },
  {
   "cell_type": "markdown",
   "id": "bZgz8AOc_a3t",
   "metadata": {
    "id": "bZgz8AOc_a3t"
   },
   "source": [
    "What are the occupations that are made up of more than 50% of female workers? "
   ]
  },
  {
   "cell_type": "code",
   "execution_count": null,
   "id": "516e6e59",
   "metadata": {
    "id": "516e6e59",
    "outputId": "a9555aec-d75a-40c6-ecab-667e6cba7c0f"
   },
   "outputs": [
    {
     "data": {
      "text/plain": [
       "accountant       1\n",
       "instructor       1\n",
       "broker           1\n",
       "dietitian        1\n",
       "auditor          1\n",
       "cashier          1\n",
       "dispatcher       1\n",
       "hygienist        1\n",
       "paralegal        1\n",
       "baker            1\n",
       "hairdresser      1\n",
       "nutritionist     1\n",
       "appraiser        1\n",
       "examiner         1\n",
       "veterinarian     1\n",
       "practitioner     1\n",
       "educator         1\n",
       "planner          1\n",
       "teacher          1\n",
       "pathologist      1\n",
       "bartender        1\n",
       "nurse            1\n",
       "psychologist     1\n",
       "pharmacist       1\n",
       "librarian        1\n",
       "receptionist     1\n",
       "administrator    1\n",
       "therapist        1\n",
       "counselor        1\n",
       "clerk            1\n",
       "secretary        1\n",
       "Name: occupation, dtype: int64"
      ]
     },
     "execution_count": 34,
     "metadata": {},
     "output_type": "execute_result"
    }
   ],
   "source": [
    "winogender_data[winogender_data['bls_pct_female'] >50.00]['occupation'].value_counts()"
   ]
  },
  {
   "cell_type": "markdown",
   "id": "n8fjNCpa_kJi",
   "metadata": {
    "id": "n8fjNCpa_kJi"
   },
   "source": [
    "Create the augmented data that combines the original and swapped data"
   ]
  },
  {
   "cell_type": "code",
   "execution_count": null,
   "id": "123223df",
   "metadata": {
    "id": "123223df"
   },
   "outputs": [],
   "source": [
    "def create_augmented_data(original_data, flipped_data):\n",
    "    common_indexes = flipped_data.index.intersection(original_data.index)\n",
    "    original_data = original_data.loc[common_indexes]\n",
    "    flipped_data = flipped_data.loc[common_indexes]\n",
    "    augmented_data = pd.concat([original_data, flipped_data])\n",
    "    return augmented_data"
   ]
  },
  {
   "cell_type": "code",
   "execution_count": null,
   "id": "eaacb52f",
   "metadata": {
    "id": "eaacb52f"
   },
   "outputs": [],
   "source": [
    "augmentation=True"
   ]
  },
  {
   "cell_type": "code",
   "execution_count": null,
   "id": "dc5e58d7",
   "metadata": {
    "id": "dc5e58d7"
   },
   "outputs": [],
   "source": [
    "if augmentation == False:\n",
    "    train_data = train_original_data\n",
    "    val_data = val_original_data\n",
    "else:\n",
    "    train_data = create_augmented_data(train_original_data, train_flipped_data)\n",
    "    val_data = create_augmented_data(val_original_data, val_flipped_data)"
   ]
  },
  {
   "cell_type": "code",
   "execution_count": null,
   "id": "c97be990",
   "metadata": {
    "id": "c97be990",
    "outputId": "2fd0a169-6d29-4901-8f90-ec841e7de45c"
   },
   "outputs": [
    {
     "data": {
      "text/html": [
       "<div>\n",
       "<style scoped>\n",
       "    .dataframe tbody tr th:only-of-type {\n",
       "        vertical-align: middle;\n",
       "    }\n",
       "\n",
       "    .dataframe tbody tr th {\n",
       "        vertical-align: top;\n",
       "    }\n",
       "\n",
       "    .dataframe thead th {\n",
       "        text-align: right;\n",
       "    }\n",
       "</style>\n",
       "<table border=\"1\" class=\"dataframe\">\n",
       "  <thead>\n",
       "    <tr style=\"text-align: right;\">\n",
       "      <th></th>\n",
       "      <th>text</th>\n",
       "      <th>pronouns</th>\n",
       "      <th>length</th>\n",
       "    </tr>\n",
       "  </thead>\n",
       "  <tbody>\n",
       "    <tr>\n",
       "      <th>0</th>\n",
       "      <td>[name] relates that as a youth [MASK] studied ...</td>\n",
       "      <td>he</td>\n",
       "      <td>279.0</td>\n",
       "    </tr>\n",
       "    <tr>\n",
       "      <th>2</th>\n",
       "      <td>[name] relates that as a youth [MASK] studied ...</td>\n",
       "      <td>his</td>\n",
       "      <td>279.0</td>\n",
       "    </tr>\n",
       "    <tr>\n",
       "      <th>5</th>\n",
       "      <td>ever since graduating with a degree in mechani...</td>\n",
       "      <td>his</td>\n",
       "      <td>224.0</td>\n",
       "    </tr>\n",
       "    <tr>\n",
       "      <th>6</th>\n",
       "      <td>[name] [name] - [name] , a researcher at the [...</td>\n",
       "      <td>his</td>\n",
       "      <td>247.0</td>\n",
       "    </tr>\n",
       "    <tr>\n",
       "      <th>7</th>\n",
       "      <td>[MASK] divides [MASK] schedule into three - mo...</td>\n",
       "      <td>she</td>\n",
       "      <td>221.0</td>\n",
       "    </tr>\n",
       "    <tr>\n",
       "      <th>8</th>\n",
       "      <td>[MASK] divides [MASK] schedule into three - mo...</td>\n",
       "      <td>her</td>\n",
       "      <td>221.0</td>\n",
       "    </tr>\n",
       "    <tr>\n",
       "      <th>12</th>\n",
       "      <td>still , sometimes nothing can be done , such a...</td>\n",
       "      <td>she</td>\n",
       "      <td>202.0</td>\n",
       "    </tr>\n",
       "    <tr>\n",
       "      <th>13</th>\n",
       "      <td>still , sometimes nothing can be done , such a...</td>\n",
       "      <td>her</td>\n",
       "      <td>202.0</td>\n",
       "    </tr>\n",
       "  </tbody>\n",
       "</table>\n",
       "</div>"
      ],
      "text/plain": [
       "                                                 text pronouns  length\n",
       "0   [name] relates that as a youth [MASK] studied ...       he   279.0\n",
       "2   [name] relates that as a youth [MASK] studied ...      his   279.0\n",
       "5   ever since graduating with a degree in mechani...      his   224.0\n",
       "6   [name] [name] - [name] , a researcher at the [...      his   247.0\n",
       "7   [MASK] divides [MASK] schedule into three - mo...      she   221.0\n",
       "8   [MASK] divides [MASK] schedule into three - mo...      her   221.0\n",
       "12  still , sometimes nothing can be done , such a...      she   202.0\n",
       "13  still , sometimes nothing can be done , such a...      her   202.0"
      ]
     },
     "execution_count": 38,
     "metadata": {},
     "output_type": "execute_result"
    }
   ],
   "source": [
    "train_data.head(8)"
   ]
  },
  {
   "cell_type": "code",
   "execution_count": null,
   "id": "f0d33248",
   "metadata": {
    "id": "f0d33248",
    "outputId": "cdf5009f-a87a-421c-9156-81b205c06346"
   },
   "outputs": [
    {
     "data": {
      "text/plain": [
       "(22218, 2726)"
      ]
     },
     "execution_count": 39,
     "metadata": {},
     "output_type": "execute_result"
    }
   ],
   "source": [
    "len(train_data), len(val_data)"
   ]
  },
  {
   "cell_type": "code",
   "execution_count": null,
   "id": "768792e1",
   "metadata": {
    "id": "768792e1",
    "outputId": "05a6aaea-4d2e-4fcc-d7bb-499b392e0d22"
   },
   "outputs": [
    {
     "data": {
      "text/plain": [
       "array(['he', 'his', 'she', 'her', 'him', 'hers'], dtype=object)"
      ]
     },
     "execution_count": 40,
     "metadata": {},
     "output_type": "execute_result"
    }
   ],
   "source": [
    "train_data['pronouns'].unique()"
   ]
  },
  {
   "cell_type": "code",
   "execution_count": null,
   "id": "0837edda",
   "metadata": {
    "id": "0837edda",
    "outputId": "3c184044-d32b-40c7-e380-1da3a7b8aca7"
   },
   "outputs": [
    {
     "data": {
      "text/plain": [
       "her     7064\n",
       "his     6536\n",
       "he      3865\n",
       "she     3865\n",
       "him      885\n",
       "hers       3\n",
       "Name: pronouns, dtype: int64"
      ]
     },
     "execution_count": 41,
     "metadata": {},
     "output_type": "execute_result"
    }
   ],
   "source": [
    "train_data['pronouns'].value_counts()"
   ]
  },
  {
   "cell_type": "markdown",
   "id": "cf678d5d",
   "metadata": {
    "id": "cf678d5d"
   },
   "source": [
    "## Model & Training"
   ]
  },
  {
   "cell_type": "markdown",
   "id": "eba6f167",
   "metadata": {
    "id": "eba6f167"
   },
   "source": [
    "Create the model for training\n",
    "\n",
    "Source inspired from http://mccormickml.com/2019/07/22/BERT-fine-tuning/"
   ]
  },
  {
   "cell_type": "code",
   "execution_count": null,
   "id": "011be316",
   "metadata": {
    "id": "011be316",
    "outputId": "4e45ad43-1127-439e-d22e-52bc6c64c279"
   },
   "outputs": [
    {
     "name": "stdout",
     "output_type": "stream",
     "text": [
      "Loading BERT tokenizer...\n"
     ]
    }
   ],
   "source": [
    "# tokenize the data with bert\n",
    "from transformers import BertTokenizer\n",
    "\n",
    "# Load the BERT tokenizer.\n",
    "print('Loading BERT tokenizer...')\n",
    "tokenizer = BertTokenizer.from_pretrained('bert-base-uncased', do_lower_case=True)"
   ]
  },
  {
   "cell_type": "code",
   "execution_count": null,
   "id": "2d5a5d1b",
   "metadata": {
    "id": "2d5a5d1b"
   },
   "outputs": [],
   "source": [
    "# we need to find the max sequence length of a sentence\n",
    "# in the dataset so that we can pad the rest of the sentences\n",
    "def find_max_length_seq(data):\n",
    "    max_seq_len = 0\n",
    "    for sent in data:\n",
    "        encoded_ids = tokenizer.encode(sent, add_special_tokens=True)\n",
    "        max_seq_len = max(max_seq_len, len(encoded_ids))\n",
    "    return max_seq_len\n",
    "\n",
    "train_max_seq_len = find_max_length_seq(train_data['text'])\n",
    "val_max_seq_len = find_max_length_seq(val_data['text'])"
   ]
  },
  {
   "cell_type": "code",
   "execution_count": null,
   "id": "1ac8a172",
   "metadata": {
    "id": "1ac8a172",
    "outputId": "c84cac63-38d1-4ab9-e7e0-1826a0086e07"
   },
   "outputs": [
    {
     "name": "stdout",
     "output_type": "stream",
     "text": [
      "Maximum train sequence length:  186\n",
      "Maximum validation sequence length:  143\n"
     ]
    }
   ],
   "source": [
    "# pad 10 extra\n",
    "train_max_seq_len = train_max_seq_len + 10\n",
    "print(\"Maximum train sequence length: \", train_max_seq_len)\n",
    "val_max_seq_len = val_max_seq_len + 10\n",
    "print(\"Maximum validation sequence length: \", val_max_seq_len)"
   ]
  },
  {
   "cell_type": "code",
   "execution_count": null,
   "id": "5a9c45cb",
   "metadata": {
    "id": "5a9c45cb"
   },
   "outputs": [],
   "source": [
    "# create encoding for the labels\n",
    "# by using the BERT tokenizer\n",
    "def encode_labels(dataset):\n",
    "    print(len(dataset))\n",
    "    X = dataset.text.values\n",
    "    y = dataset.pronouns.values\n",
    "    mask_id = tokenizer.convert_tokens_to_ids('[MASK]')\n",
    "    encoded_labels = []\n",
    "    for sentence, label in zip(X, y):\n",
    "        sentence_ids = tokenizer.convert_tokens_to_ids(tokenizer.tokenize(sentence))\n",
    "        label_id = tokenizer.convert_tokens_to_ids(label)\n",
    "        encoded_label = []\n",
    "        for ids in sentence_ids:\n",
    "            if ids == mask_id:\n",
    "                encoded_label.append(label_id)\n",
    "            else:\n",
    "                encoded_label.append(-100)\n",
    "        encoded_labels.append(encoded_label)\n",
    "    return encoded_labels"
   ]
  },
  {
   "cell_type": "code",
   "execution_count": null,
   "id": "f18e6acd",
   "metadata": {
    "id": "f18e6acd",
    "outputId": "aec42e49-d7a3-4ddf-a48f-73d1e93d7a32"
   },
   "outputs": [
    {
     "name": "stdout",
     "output_type": "stream",
     "text": [
      "22218\n",
      "2726\n"
     ]
    }
   ],
   "source": [
    "train_encoded_labels = encode_labels(train_data)\n",
    "val_encoded_labels = encode_labels(val_data)"
   ]
  },
  {
   "cell_type": "code",
   "execution_count": null,
   "id": "ce7d023c",
   "metadata": {
    "id": "ce7d023c",
    "outputId": "16200746-4f8d-450b-bfb1-69681ab0e32f"
   },
   "outputs": [
    {
     "data": {
      "text/plain": [
       "2726"
      ]
     },
     "execution_count": 47,
     "metadata": {},
     "output_type": "execute_result"
    }
   ],
   "source": [
    "len(val_encoded_labels)"
   ]
  },
  {
   "cell_type": "code",
   "execution_count": null,
   "id": "5d13c182",
   "metadata": {
    "id": "5d13c182"
   },
   "outputs": [],
   "source": [
    "# tokenize the data\n",
    "# add start & stop tokens [SEP] & [CLS]\n",
    "# pad the sentences\n",
    "def encode_data(sentences, masked_labels, max_seq_len):\n",
    "    encoded_vector = []\n",
    "    encoded_label = []\n",
    "    attention_masks = []\n",
    "    # add_special_tokens = add start and end tokens to every sentence\n",
    "    # pad_to_max_length = pad the sentence to max sequence length of data\n",
    "    # return the tokenized IDs as a tensor\n",
    "    for sent, label in zip(sentences, masked_labels):\n",
    "        # encode the sentences\n",
    "        encoded_dict = tokenizer.encode_plus(sent, add_special_tokens=True,\n",
    "                                             max_length=max_seq_len, truncation=True,\n",
    "                                             padding='max_length',\n",
    "                                             return_attention_mask=True, \n",
    "                                             return_tensors='pt')\n",
    "        \n",
    "        # encode the labels\n",
    "        encoded_label_dict = tokenizer.encode_plus(label, max_length=max_seq_len, \n",
    "                                                   padding='max_length',\n",
    "                                                   return_tensors='pt')\n",
    "        \n",
    "        encoded_vector.append(encoded_dict['input_ids'])\n",
    "        encoded_label.append(encoded_label_dict['input_ids'])\n",
    "        attention_masks.append(encoded_dict['attention_mask'])\n",
    "    return encoded_vector, encoded_label, attention_masks\n",
    "\n",
    "# get the encoded data\n",
    "train_encoded_vector, train_encoded_labels, train_attn_masks = encode_data(train_data.text.values, \n",
    "                                                         train_encoded_labels, train_max_seq_len)\n",
    "val_encoded_vector, val_encoded_labels, val_attn_masks = encode_data(val_data.text.values, \n",
    "                                                                     val_encoded_labels, val_max_seq_len)"
   ]
  },
  {
   "cell_type": "code",
   "execution_count": null,
   "id": "cfccef99",
   "metadata": {
    "id": "cfccef99",
    "outputId": "85d736af-4528-47f5-84cd-4f5b4f3df153"
   },
   "outputs": [
    {
     "data": {
      "text/plain": [
       "tensor([[ 101, -100, -100, -100, -100, -100, -100, -100, -100, -100, -100, -100,\n",
       "         -100, -100, -100, -100, -100, -100, -100, -100, -100, 2010, -100, -100,\n",
       "         -100, -100, -100, -100, -100, -100, -100, -100, -100, -100, -100, -100,\n",
       "         -100, -100, -100, -100, -100, -100, -100, -100, -100, -100, -100, -100,\n",
       "          102,    0,    0,    0,    0,    0,    0,    0,    0,    0,    0,    0,\n",
       "            0,    0,    0,    0,    0,    0,    0,    0,    0,    0,    0,    0,\n",
       "            0,    0,    0,    0,    0,    0,    0,    0,    0,    0,    0,    0,\n",
       "            0,    0,    0,    0,    0,    0,    0,    0,    0,    0,    0,    0,\n",
       "            0,    0,    0,    0,    0,    0,    0,    0,    0,    0,    0,    0,\n",
       "            0,    0,    0,    0,    0,    0,    0,    0,    0,    0,    0,    0,\n",
       "            0,    0,    0,    0,    0,    0,    0,    0,    0,    0,    0,    0,\n",
       "            0,    0,    0,    0,    0,    0,    0,    0,    0,    0,    0]])"
      ]
     },
     "execution_count": 49,
     "metadata": {},
     "output_type": "execute_result"
    }
   ],
   "source": [
    "val_encoded_labels[0]"
   ]
  },
  {
   "cell_type": "code",
   "execution_count": null,
   "id": "e970635f",
   "metadata": {
    "id": "e970635f",
    "outputId": "adcbd87f-1d22-4b7a-df92-97e7b243c7a2"
   },
   "outputs": [
    {
     "data": {
      "text/plain": [
       "22218"
      ]
     },
     "execution_count": 50,
     "metadata": {},
     "output_type": "execute_result"
    }
   ],
   "source": [
    "len(train_encoded_vector)"
   ]
  },
  {
   "cell_type": "code",
   "execution_count": null,
   "id": "7892b5c7",
   "metadata": {
    "id": "7892b5c7"
   },
   "outputs": [],
   "source": [
    "# concatenate all the data into one tensor\n",
    "train_encoded_vector = torch.cat(train_encoded_vector, dim=0)\n",
    "train_encoded_label = torch.cat(train_encoded_labels, dim=0)\n",
    "train_attn_masks = torch.cat(train_attn_masks, dim=0)\n",
    "val_encoded_vector = torch.cat(val_encoded_vector, dim=0)\n",
    "val_encoded_label = torch.cat(val_encoded_labels, dim=0)\n",
    "val_attn_masks = torch.cat(val_attn_masks, dim=0)"
   ]
  },
  {
   "cell_type": "markdown",
   "id": "dkCT8SP-AVSz",
   "metadata": {
    "id": "dkCT8SP-AVSz"
   },
   "source": [
    "Initialize the Data Loader"
   ]
  },
  {
   "cell_type": "code",
   "execution_count": null,
   "id": "67cfd25c",
   "metadata": {
    "id": "67cfd25c"
   },
   "outputs": [],
   "source": [
    "batch_size = 2\n",
    "train_augmented_data = TensorDataset(train_encoded_vector, train_attn_masks, train_encoded_label)\n",
    "train_data_loader = DataLoader(train_augmented_data, batch_size=batch_size, shuffle=True)\n",
    "val_augmented_data = TensorDataset(val_encoded_vector, val_attn_masks, val_encoded_label)\n",
    "val_data_loader = DataLoader(val_augmented_data, batch_size=batch_size, shuffle=True)"
   ]
  },
  {
   "cell_type": "code",
   "execution_count": null,
   "id": "3234aa58",
   "metadata": {
    "id": "3234aa58",
    "outputId": "5621a2ad-bfcb-4c87-9026-5efb5337dcbc"
   },
   "outputs": [
    {
     "name": "stdout",
     "output_type": "stream",
     "text": [
      "torch.Size([2, 186]) torch.Size([2, 186]) torch.Size([2, 186])\n",
      "torch.Size([2, 186]) torch.Size([2, 186]) torch.Size([2, 186])\n",
      "torch.Size([2, 186]) torch.Size([2, 186]) torch.Size([2, 186])\n",
      "torch.Size([2, 186]) torch.Size([2, 186]) torch.Size([2, 186])\n",
      "torch.Size([2, 186]) torch.Size([2, 186]) torch.Size([2, 186])\n"
     ]
    }
   ],
   "source": [
    "# check if the batching works\n",
    "for _, batch in zip(range(5), train_data_loader):\n",
    "    print(batch[0].shape, batch[1].shape, batch[2].shape)"
   ]
  },
  {
   "cell_type": "code",
   "execution_count": null,
   "id": "5f1fd14b",
   "metadata": {
    "id": "5f1fd14b",
    "outputId": "cb0b0d85-d11c-4366-8a3e-4c025c820113"
   },
   "outputs": [
    {
     "name": "stdout",
     "output_type": "stream",
     "text": [
      "torch.Size([2, 143]) torch.Size([2, 143]) torch.Size([2, 143])\n",
      "torch.Size([2, 143]) torch.Size([2, 143]) torch.Size([2, 143])\n",
      "torch.Size([2, 143]) torch.Size([2, 143]) torch.Size([2, 143])\n",
      "torch.Size([2, 143]) torch.Size([2, 143]) torch.Size([2, 143])\n",
      "torch.Size([2, 143]) torch.Size([2, 143]) torch.Size([2, 143])\n"
     ]
    }
   ],
   "source": [
    "# check if the batching works\n",
    "for _, batch in zip(range(5), val_data_loader): \n",
    "    print(batch[0].shape, batch[1].shape, batch[2].shape)"
   ]
  },
  {
   "cell_type": "markdown",
   "id": "rzR_I7KOAZy-",
   "metadata": {
    "id": "rzR_I7KOAZy-"
   },
   "source": [
    "### Initialize the BERT model"
   ]
  },
  {
   "cell_type": "code",
   "execution_count": null,
   "id": "5bbc184d",
   "metadata": {
    "id": "5bbc184d",
    "outputId": "51641056-51a0-443e-9d1c-7c6a349cd8f7"
   },
   "outputs": [
    {
     "name": "stderr",
     "output_type": "stream",
     "text": [
      "Some weights of the model checkpoint at bert-base-uncased were not used when initializing BertForMaskedLM: ['cls.seq_relationship.weight', 'cls.seq_relationship.bias']\n",
      "- This IS expected if you are initializing BertForMaskedLM from the checkpoint of a model trained on another task or with another architecture (e.g. initializing a BertForSequenceClassification model from a BertForPreTraining model).\n",
      "- This IS NOT expected if you are initializing BertForMaskedLM from the checkpoint of a model that you expect to be exactly identical (initializing a BertForSequenceClassification model from a BertForSequenceClassification model).\n"
     ]
    },
    {
     "data": {
      "text/plain": [
       "BertForMaskedLM(\n",
       "  (bert): BertModel(\n",
       "    (embeddings): BertEmbeddings(\n",
       "      (word_embeddings): Embedding(30522, 768, padding_idx=0)\n",
       "      (position_embeddings): Embedding(512, 768)\n",
       "      (token_type_embeddings): Embedding(2, 768)\n",
       "      (LayerNorm): LayerNorm((768,), eps=1e-12, elementwise_affine=True)\n",
       "      (dropout): Dropout(p=0.1, inplace=False)\n",
       "    )\n",
       "    (encoder): BertEncoder(\n",
       "      (layer): ModuleList(\n",
       "        (0): BertLayer(\n",
       "          (attention): BertAttention(\n",
       "            (self): BertSelfAttention(\n",
       "              (query): Linear(in_features=768, out_features=768, bias=True)\n",
       "              (key): Linear(in_features=768, out_features=768, bias=True)\n",
       "              (value): Linear(in_features=768, out_features=768, bias=True)\n",
       "              (dropout): Dropout(p=0.1, inplace=False)\n",
       "            )\n",
       "            (output): BertSelfOutput(\n",
       "              (dense): Linear(in_features=768, out_features=768, bias=True)\n",
       "              (LayerNorm): LayerNorm((768,), eps=1e-12, elementwise_affine=True)\n",
       "              (dropout): Dropout(p=0.1, inplace=False)\n",
       "            )\n",
       "          )\n",
       "          (intermediate): BertIntermediate(\n",
       "            (dense): Linear(in_features=768, out_features=3072, bias=True)\n",
       "            (intermediate_act_fn): GELUActivation()\n",
       "          )\n",
       "          (output): BertOutput(\n",
       "            (dense): Linear(in_features=3072, out_features=768, bias=True)\n",
       "            (LayerNorm): LayerNorm((768,), eps=1e-12, elementwise_affine=True)\n",
       "            (dropout): Dropout(p=0.1, inplace=False)\n",
       "          )\n",
       "        )\n",
       "        (1): BertLayer(\n",
       "          (attention): BertAttention(\n",
       "            (self): BertSelfAttention(\n",
       "              (query): Linear(in_features=768, out_features=768, bias=True)\n",
       "              (key): Linear(in_features=768, out_features=768, bias=True)\n",
       "              (value): Linear(in_features=768, out_features=768, bias=True)\n",
       "              (dropout): Dropout(p=0.1, inplace=False)\n",
       "            )\n",
       "            (output): BertSelfOutput(\n",
       "              (dense): Linear(in_features=768, out_features=768, bias=True)\n",
       "              (LayerNorm): LayerNorm((768,), eps=1e-12, elementwise_affine=True)\n",
       "              (dropout): Dropout(p=0.1, inplace=False)\n",
       "            )\n",
       "          )\n",
       "          (intermediate): BertIntermediate(\n",
       "            (dense): Linear(in_features=768, out_features=3072, bias=True)\n",
       "            (intermediate_act_fn): GELUActivation()\n",
       "          )\n",
       "          (output): BertOutput(\n",
       "            (dense): Linear(in_features=3072, out_features=768, bias=True)\n",
       "            (LayerNorm): LayerNorm((768,), eps=1e-12, elementwise_affine=True)\n",
       "            (dropout): Dropout(p=0.1, inplace=False)\n",
       "          )\n",
       "        )\n",
       "        (2): BertLayer(\n",
       "          (attention): BertAttention(\n",
       "            (self): BertSelfAttention(\n",
       "              (query): Linear(in_features=768, out_features=768, bias=True)\n",
       "              (key): Linear(in_features=768, out_features=768, bias=True)\n",
       "              (value): Linear(in_features=768, out_features=768, bias=True)\n",
       "              (dropout): Dropout(p=0.1, inplace=False)\n",
       "            )\n",
       "            (output): BertSelfOutput(\n",
       "              (dense): Linear(in_features=768, out_features=768, bias=True)\n",
       "              (LayerNorm): LayerNorm((768,), eps=1e-12, elementwise_affine=True)\n",
       "              (dropout): Dropout(p=0.1, inplace=False)\n",
       "            )\n",
       "          )\n",
       "          (intermediate): BertIntermediate(\n",
       "            (dense): Linear(in_features=768, out_features=3072, bias=True)\n",
       "            (intermediate_act_fn): GELUActivation()\n",
       "          )\n",
       "          (output): BertOutput(\n",
       "            (dense): Linear(in_features=3072, out_features=768, bias=True)\n",
       "            (LayerNorm): LayerNorm((768,), eps=1e-12, elementwise_affine=True)\n",
       "            (dropout): Dropout(p=0.1, inplace=False)\n",
       "          )\n",
       "        )\n",
       "        (3): BertLayer(\n",
       "          (attention): BertAttention(\n",
       "            (self): BertSelfAttention(\n",
       "              (query): Linear(in_features=768, out_features=768, bias=True)\n",
       "              (key): Linear(in_features=768, out_features=768, bias=True)\n",
       "              (value): Linear(in_features=768, out_features=768, bias=True)\n",
       "              (dropout): Dropout(p=0.1, inplace=False)\n",
       "            )\n",
       "            (output): BertSelfOutput(\n",
       "              (dense): Linear(in_features=768, out_features=768, bias=True)\n",
       "              (LayerNorm): LayerNorm((768,), eps=1e-12, elementwise_affine=True)\n",
       "              (dropout): Dropout(p=0.1, inplace=False)\n",
       "            )\n",
       "          )\n",
       "          (intermediate): BertIntermediate(\n",
       "            (dense): Linear(in_features=768, out_features=3072, bias=True)\n",
       "            (intermediate_act_fn): GELUActivation()\n",
       "          )\n",
       "          (output): BertOutput(\n",
       "            (dense): Linear(in_features=3072, out_features=768, bias=True)\n",
       "            (LayerNorm): LayerNorm((768,), eps=1e-12, elementwise_affine=True)\n",
       "            (dropout): Dropout(p=0.1, inplace=False)\n",
       "          )\n",
       "        )\n",
       "        (4): BertLayer(\n",
       "          (attention): BertAttention(\n",
       "            (self): BertSelfAttention(\n",
       "              (query): Linear(in_features=768, out_features=768, bias=True)\n",
       "              (key): Linear(in_features=768, out_features=768, bias=True)\n",
       "              (value): Linear(in_features=768, out_features=768, bias=True)\n",
       "              (dropout): Dropout(p=0.1, inplace=False)\n",
       "            )\n",
       "            (output): BertSelfOutput(\n",
       "              (dense): Linear(in_features=768, out_features=768, bias=True)\n",
       "              (LayerNorm): LayerNorm((768,), eps=1e-12, elementwise_affine=True)\n",
       "              (dropout): Dropout(p=0.1, inplace=False)\n",
       "            )\n",
       "          )\n",
       "          (intermediate): BertIntermediate(\n",
       "            (dense): Linear(in_features=768, out_features=3072, bias=True)\n",
       "            (intermediate_act_fn): GELUActivation()\n",
       "          )\n",
       "          (output): BertOutput(\n",
       "            (dense): Linear(in_features=3072, out_features=768, bias=True)\n",
       "            (LayerNorm): LayerNorm((768,), eps=1e-12, elementwise_affine=True)\n",
       "            (dropout): Dropout(p=0.1, inplace=False)\n",
       "          )\n",
       "        )\n",
       "        (5): BertLayer(\n",
       "          (attention): BertAttention(\n",
       "            (self): BertSelfAttention(\n",
       "              (query): Linear(in_features=768, out_features=768, bias=True)\n",
       "              (key): Linear(in_features=768, out_features=768, bias=True)\n",
       "              (value): Linear(in_features=768, out_features=768, bias=True)\n",
       "              (dropout): Dropout(p=0.1, inplace=False)\n",
       "            )\n",
       "            (output): BertSelfOutput(\n",
       "              (dense): Linear(in_features=768, out_features=768, bias=True)\n",
       "              (LayerNorm): LayerNorm((768,), eps=1e-12, elementwise_affine=True)\n",
       "              (dropout): Dropout(p=0.1, inplace=False)\n",
       "            )\n",
       "          )\n",
       "          (intermediate): BertIntermediate(\n",
       "            (dense): Linear(in_features=768, out_features=3072, bias=True)\n",
       "            (intermediate_act_fn): GELUActivation()\n",
       "          )\n",
       "          (output): BertOutput(\n",
       "            (dense): Linear(in_features=3072, out_features=768, bias=True)\n",
       "            (LayerNorm): LayerNorm((768,), eps=1e-12, elementwise_affine=True)\n",
       "            (dropout): Dropout(p=0.1, inplace=False)\n",
       "          )\n",
       "        )\n",
       "        (6): BertLayer(\n",
       "          (attention): BertAttention(\n",
       "            (self): BertSelfAttention(\n",
       "              (query): Linear(in_features=768, out_features=768, bias=True)\n",
       "              (key): Linear(in_features=768, out_features=768, bias=True)\n",
       "              (value): Linear(in_features=768, out_features=768, bias=True)\n",
       "              (dropout): Dropout(p=0.1, inplace=False)\n",
       "            )\n",
       "            (output): BertSelfOutput(\n",
       "              (dense): Linear(in_features=768, out_features=768, bias=True)\n",
       "              (LayerNorm): LayerNorm((768,), eps=1e-12, elementwise_affine=True)\n",
       "              (dropout): Dropout(p=0.1, inplace=False)\n",
       "            )\n",
       "          )\n",
       "          (intermediate): BertIntermediate(\n",
       "            (dense): Linear(in_features=768, out_features=3072, bias=True)\n",
       "            (intermediate_act_fn): GELUActivation()\n",
       "          )\n",
       "          (output): BertOutput(\n",
       "            (dense): Linear(in_features=3072, out_features=768, bias=True)\n",
       "            (LayerNorm): LayerNorm((768,), eps=1e-12, elementwise_affine=True)\n",
       "            (dropout): Dropout(p=0.1, inplace=False)\n",
       "          )\n",
       "        )\n",
       "        (7): BertLayer(\n",
       "          (attention): BertAttention(\n",
       "            (self): BertSelfAttention(\n",
       "              (query): Linear(in_features=768, out_features=768, bias=True)\n",
       "              (key): Linear(in_features=768, out_features=768, bias=True)\n",
       "              (value): Linear(in_features=768, out_features=768, bias=True)\n",
       "              (dropout): Dropout(p=0.1, inplace=False)\n",
       "            )\n",
       "            (output): BertSelfOutput(\n",
       "              (dense): Linear(in_features=768, out_features=768, bias=True)\n",
       "              (LayerNorm): LayerNorm((768,), eps=1e-12, elementwise_affine=True)\n",
       "              (dropout): Dropout(p=0.1, inplace=False)\n",
       "            )\n",
       "          )\n",
       "          (intermediate): BertIntermediate(\n",
       "            (dense): Linear(in_features=768, out_features=3072, bias=True)\n",
       "            (intermediate_act_fn): GELUActivation()\n",
       "          )\n",
       "          (output): BertOutput(\n",
       "            (dense): Linear(in_features=3072, out_features=768, bias=True)\n",
       "            (LayerNorm): LayerNorm((768,), eps=1e-12, elementwise_affine=True)\n",
       "            (dropout): Dropout(p=0.1, inplace=False)\n",
       "          )\n",
       "        )\n",
       "        (8): BertLayer(\n",
       "          (attention): BertAttention(\n",
       "            (self): BertSelfAttention(\n",
       "              (query): Linear(in_features=768, out_features=768, bias=True)\n",
       "              (key): Linear(in_features=768, out_features=768, bias=True)\n",
       "              (value): Linear(in_features=768, out_features=768, bias=True)\n",
       "              (dropout): Dropout(p=0.1, inplace=False)\n",
       "            )\n",
       "            (output): BertSelfOutput(\n",
       "              (dense): Linear(in_features=768, out_features=768, bias=True)\n",
       "              (LayerNorm): LayerNorm((768,), eps=1e-12, elementwise_affine=True)\n",
       "              (dropout): Dropout(p=0.1, inplace=False)\n",
       "            )\n",
       "          )\n",
       "          (intermediate): BertIntermediate(\n",
       "            (dense): Linear(in_features=768, out_features=3072, bias=True)\n",
       "            (intermediate_act_fn): GELUActivation()\n",
       "          )\n",
       "          (output): BertOutput(\n",
       "            (dense): Linear(in_features=3072, out_features=768, bias=True)\n",
       "            (LayerNorm): LayerNorm((768,), eps=1e-12, elementwise_affine=True)\n",
       "            (dropout): Dropout(p=0.1, inplace=False)\n",
       "          )\n",
       "        )\n",
       "        (9): BertLayer(\n",
       "          (attention): BertAttention(\n",
       "            (self): BertSelfAttention(\n",
       "              (query): Linear(in_features=768, out_features=768, bias=True)\n",
       "              (key): Linear(in_features=768, out_features=768, bias=True)\n",
       "              (value): Linear(in_features=768, out_features=768, bias=True)\n",
       "              (dropout): Dropout(p=0.1, inplace=False)\n",
       "            )\n",
       "            (output): BertSelfOutput(\n",
       "              (dense): Linear(in_features=768, out_features=768, bias=True)\n",
       "              (LayerNorm): LayerNorm((768,), eps=1e-12, elementwise_affine=True)\n",
       "              (dropout): Dropout(p=0.1, inplace=False)\n",
       "            )\n",
       "          )\n",
       "          (intermediate): BertIntermediate(\n",
       "            (dense): Linear(in_features=768, out_features=3072, bias=True)\n",
       "            (intermediate_act_fn): GELUActivation()\n",
       "          )\n",
       "          (output): BertOutput(\n",
       "            (dense): Linear(in_features=3072, out_features=768, bias=True)\n",
       "            (LayerNorm): LayerNorm((768,), eps=1e-12, elementwise_affine=True)\n",
       "            (dropout): Dropout(p=0.1, inplace=False)\n",
       "          )\n",
       "        )\n",
       "        (10): BertLayer(\n",
       "          (attention): BertAttention(\n",
       "            (self): BertSelfAttention(\n",
       "              (query): Linear(in_features=768, out_features=768, bias=True)\n",
       "              (key): Linear(in_features=768, out_features=768, bias=True)\n",
       "              (value): Linear(in_features=768, out_features=768, bias=True)\n",
       "              (dropout): Dropout(p=0.1, inplace=False)\n",
       "            )\n",
       "            (output): BertSelfOutput(\n",
       "              (dense): Linear(in_features=768, out_features=768, bias=True)\n",
       "              (LayerNorm): LayerNorm((768,), eps=1e-12, elementwise_affine=True)\n",
       "              (dropout): Dropout(p=0.1, inplace=False)\n",
       "            )\n",
       "          )\n",
       "          (intermediate): BertIntermediate(\n",
       "            (dense): Linear(in_features=768, out_features=3072, bias=True)\n",
       "            (intermediate_act_fn): GELUActivation()\n",
       "          )\n",
       "          (output): BertOutput(\n",
       "            (dense): Linear(in_features=3072, out_features=768, bias=True)\n",
       "            (LayerNorm): LayerNorm((768,), eps=1e-12, elementwise_affine=True)\n",
       "            (dropout): Dropout(p=0.1, inplace=False)\n",
       "          )\n",
       "        )\n",
       "        (11): BertLayer(\n",
       "          (attention): BertAttention(\n",
       "            (self): BertSelfAttention(\n",
       "              (query): Linear(in_features=768, out_features=768, bias=True)\n",
       "              (key): Linear(in_features=768, out_features=768, bias=True)\n",
       "              (value): Linear(in_features=768, out_features=768, bias=True)\n",
       "              (dropout): Dropout(p=0.1, inplace=False)\n",
       "            )\n",
       "            (output): BertSelfOutput(\n",
       "              (dense): Linear(in_features=768, out_features=768, bias=True)\n",
       "              (LayerNorm): LayerNorm((768,), eps=1e-12, elementwise_affine=True)\n",
       "              (dropout): Dropout(p=0.1, inplace=False)\n",
       "            )\n",
       "          )\n",
       "          (intermediate): BertIntermediate(\n",
       "            (dense): Linear(in_features=768, out_features=3072, bias=True)\n",
       "            (intermediate_act_fn): GELUActivation()\n",
       "          )\n",
       "          (output): BertOutput(\n",
       "            (dense): Linear(in_features=3072, out_features=768, bias=True)\n",
       "            (LayerNorm): LayerNorm((768,), eps=1e-12, elementwise_affine=True)\n",
       "            (dropout): Dropout(p=0.1, inplace=False)\n",
       "          )\n",
       "        )\n",
       "      )\n",
       "    )\n",
       "  )\n",
       "  (cls): BertOnlyMLMHead(\n",
       "    (predictions): BertLMPredictionHead(\n",
       "      (transform): BertPredictionHeadTransform(\n",
       "        (dense): Linear(in_features=768, out_features=768, bias=True)\n",
       "        (transform_act_fn): GELUActivation()\n",
       "        (LayerNorm): LayerNorm((768,), eps=1e-12, elementwise_affine=True)\n",
       "      )\n",
       "      (decoder): Linear(in_features=768, out_features=30522, bias=True)\n",
       "    )\n",
       "  )\n",
       ")"
      ]
     },
     "execution_count": 62,
     "metadata": {},
     "output_type": "execute_result"
    }
   ],
   "source": [
    "# Load BertForMaskedLM, which is a pretrained BERT model\n",
    "labels_count = len(train_data['pronouns'].unique())\n",
    "model = BertForMaskedLM.from_pretrained(\n",
    "    \"bert-base-uncased\",\n",
    "    num_labels = labels_count,\n",
    "    output_attentions = False,\n",
    "    output_hidden_states = False\n",
    ")\n",
    "\n",
    "# Move to GPU\n",
    "model.to(device)"
   ]
  },
  {
   "cell_type": "markdown",
   "id": "C2IlTsnPAeH2",
   "metadata": {
    "id": "C2IlTsnPAeH2"
   },
   "source": [
    "#### Initialize model parameters"
   ]
  },
  {
   "cell_type": "code",
   "execution_count": null,
   "id": "7878dee5",
   "metadata": {
    "id": "7878dee5",
    "outputId": "dd7b9925-548b-4aee-976c-8794f2a44962"
   },
   "outputs": [
    {
     "name": "stdout",
     "output_type": "stream",
     "text": [
      "AdamW (\n",
      "Parameter Group 0\n",
      "    amsgrad: False\n",
      "    betas: (0.9, 0.999)\n",
      "    capturable: False\n",
      "    eps: 1e-08\n",
      "    foreach: None\n",
      "    lr: 2e-05\n",
      "    maximize: False\n",
      "    weight_decay: 0.01\n",
      ")\n",
      "1\n"
     ]
    }
   ],
   "source": [
    "# Initialize model parameters\n",
    "optimizer = torch.optim.AdamW(model.parameters(), lr=2e-5)\n",
    "n_epochs = 1\n",
    "print(optimizer)\n",
    "print(n_epochs)\n",
    "total_steps = len(train_data_loader) * n_epochs\n",
    "\n",
    "# Create the learning rate scheduler.\n",
    "scheduler = get_linear_schedule_with_warmup(optimizer, \n",
    "                                            num_warmup_steps = 0,\n",
    "                                            num_training_steps = total_steps)"
   ]
  },
  {
   "cell_type": "markdown",
   "id": "XrNnMQj7Ahnv",
   "metadata": {
    "id": "XrNnMQj7Ahnv"
   },
   "source": [
    "#### Train loop"
   ]
  },
  {
   "cell_type": "code",
   "execution_count": null,
   "id": "197e5b18",
   "metadata": {
    "id": "197e5b18"
   },
   "outputs": [],
   "source": [
    "def train(loader, model, optimizer):\n",
    "    loss_history = []\n",
    "    running_loss = 0\n",
    "    running_loss_history = []\n",
    "    total_loss = 0.0\n",
    "\n",
    "    # set the model in training state (calculates gradients)\n",
    "    model.train()\n",
    "    for index, batch in enumerate(loader):\n",
    "        # move X and y values to device\n",
    "        X = batch[0].to(device)\n",
    "        attention_mask = batch[1].to(device)\n",
    "        y = batch[2].to(device)\n",
    "\n",
    "        # step 1. zero the gradients\n",
    "        optimizer.zero_grad()\n",
    "\n",
    "        # step 2. compute the output - run model on the input\n",
    "        y_pred = model(X, attention_mask=attention_mask,\n",
    "                       labels=y)\n",
    "\n",
    "        # step 3. compute the loss\n",
    "        # keep track of the loss to plot it later\n",
    "        loss = y_pred[0]\n",
    "        loss_history.append(loss.item())\n",
    "        total_loss += loss.item()\n",
    "        # keep track of the running loss to plot it later\n",
    "        running_loss += (loss_history[-1] - running_loss) / (index + 1)\n",
    "        running_loss_history.append(running_loss)\n",
    "\n",
    "        if index % 100 == 0:\n",
    "            print(f\"Training Loss: {loss.item()}\")\n",
    "\n",
    "        # step 4. use loss to produce gradients\n",
    "        loss.backward()\n",
    "\n",
    "        # step 5. use optimizer to take gradient step\n",
    "        optimizer.step()\n",
    "        \n",
    "        scheduler.step()\n",
    "\n",
    "    # Print final values of loss\n",
    "    print(\"Epoch Train Loss: \", running_loss)\n",
    "    return loss_history, running_loss_history"
   ]
  },
  {
   "cell_type": "markdown",
   "id": "7t5o3VjmAjrT",
   "metadata": {
    "id": "7t5o3VjmAjrT"
   },
   "source": [
    "#### Evaluation loop"
   ]
  },
  {
   "cell_type": "code",
   "execution_count": null,
   "id": "a01c948d",
   "metadata": {
    "id": "a01c948d"
   },
   "outputs": [],
   "source": [
    "def evaluate(loader, model):\n",
    "    loss_history = []\n",
    "    running_loss_history = []\n",
    "    running_loss = 0\n",
    "    eval_loss = 0.0\n",
    "\n",
    "    targets = []\n",
    "    logits = []\n",
    "\n",
    "    # set the mode to eval\n",
    "    model.eval()\n",
    "    # do not compute gradient\n",
    "    with torch.inference_mode():\n",
    "        for idx, batch in enumerate(loader):\n",
    "            X = batch[0].to(device)\n",
    "            attn_mask = batch[1].to(device)\n",
    "            y = batch[1].to(device)\n",
    "\n",
    "            # run the input through the model\n",
    "            y_pred = model(X, attention_mask=attn_mask,\n",
    "                           labels=y)\n",
    "\n",
    "            loss = y_pred[0]\n",
    "            loss_history.append(loss.item())\n",
    "\n",
    "            running_loss += ((loss.item()) - running_loss) / (idx + 1)\n",
    "            running_loss_history.append(running_loss)\n",
    "            eval_loss += loss.item()\n",
    "            \n",
    "            predictions = y_pred[1]\n",
    "            \n",
    "            if idx % 100 == 0:\n",
    "                print(f\"Valid loss: {loss.item()}\")\n",
    "                \n",
    "    print(\"Epoch Valid Loss: \", running_loss)\n",
    "    return loss_history, running_loss_history"
   ]
  },
  {
   "cell_type": "code",
   "execution_count": null,
   "id": "5dde6b00",
   "metadata": {
    "id": "5dde6b00"
   },
   "outputs": [],
   "source": [
    "def run_training_and_val(train_loader, valid_loader, model, optimizer):\n",
    "    training_loss = []\n",
    "    training_running_loss = []\n",
    "\n",
    "    validation_loss = []\n",
    "    validation_running_loss = []\n",
    "\n",
    "    # tqdm progress bar\n",
    "    pbar = tqdm(train_loader)\n",
    "    for epoch_index in range(n_epochs):\n",
    "        pbar.set_description(f'epoch: {epoch_index}')\n",
    "\n",
    "        # run the train() on the traing set\n",
    "        loss_history, running_loss_history = train(train_loader, model, optimizer)\n",
    "\n",
    "        # capture the return values\n",
    "        training_loss.append(loss_history)\n",
    "        training_running_loss.append(running_loss_history)\n",
    "\n",
    "        # run the evaluate() on the validation set\n",
    "        valid_loss_history, valid_running_loss_history = \\\n",
    "          evaluate(valid_loader, model)\n",
    "\n",
    "        # capture the return values\n",
    "        validation_loss.append(valid_loss_history)\n",
    "        validation_running_loss.append(valid_running_loss_history)\n",
    "\n",
    "    \"\"\" Combine the losses to plot graphs\n",
    "      Source: https://colab.research.google.com/drive/\\\n",
    "      1UCpug78_XvieSJhSp0v4fAE7E6sEBr0y?usp=sharing\n",
    "    \"\"\"\n",
    "    all_training_losses = list(chain.from_iterable(training_loss))\n",
    "    all_training_running_losses = list(chain.from_iterable(training_running_loss))\n",
    "\n",
    "    all_valid_losses = list(chain.from_iterable(validation_loss))\n",
    "    all_valid_running_losses = list(chain.from_iterable(validation_running_loss))\n",
    "\n",
    "    return all_training_running_losses, all_valid_running_losses"
   ]
  },
  {
   "cell_type": "markdown",
   "id": "468a557d",
   "metadata": {
    "id": "468a557d"
   },
   "source": [
    "### Run the training and eval loops"
   ]
  },
  {
   "cell_type": "code",
   "execution_count": 1,
   "id": "7cbf5fde",
   "metadata": {
    "id": "7cbf5fde",
    "outputId": "d157a69d-6aa9-470a-dcdb-f406fa3b922c"
   },
   "outputs": [],
   "source": [
    "train_loss, val_loss = run_training_and_val(train_data_loader, val_data_loader, model, optimizer)"
   ]
  },
  {
   "cell_type": "markdown",
   "id": "0LHuU7WQApGp",
   "metadata": {
    "id": "0LHuU7WQApGp"
   },
   "source": [
    "Plot the train and validation loss"
   ]
  },
  {
   "cell_type": "code",
   "execution_count": null,
   "id": "29d5b7dd",
   "metadata": {
    "id": "29d5b7dd",
    "outputId": "06e30534-d9d8-4830-d66b-aa4e4a97621c"
   },
   "outputs": [
    {
     "data": {
      "image/png": "[encoded data removed]",
      "text/plain": [
       "<Figure size 640x480 with 1 Axes>"
      ]
     },
     "metadata": {},
     "output_type": "display_data"
    }
   ],
   "source": [
    "train_epoch_idx = range(len(train_loss))\n",
    "valid_epoch_idx = range(len(val_loss))\n",
    "\n",
    "sns.lineplot(x=train_epoch_idx, y=train_loss, label=\"Train Loss\")\n",
    "sns.lineplot(x=valid_epoch_idx, y=val_loss, label=\"Validation Loss\")\n",
    "plt.xlabel('Number of epochs')\n",
    "plt.ylabel('Loss')\n",
    "plt.title('BertForMaskedLM(\\n'\n",
    "  '(bert): BertModel(\\n'\n",
    "    '(embeddings): BertEmbeddings(\\n'\n",
    "      '(word_embeddings): Embedding(30522, 768, padding_idx=0)\\n'\n",
    "      '(position_embeddings): Embedding(512, 768)\\n'\n",
    "      '(token_type_embeddings): Embedding(2, 768)\\n'\n",
    "      '(LayerNorm): LayerNorm((768,), eps=1e-12, elementwise_affine=True)\\n'\n",
    "      '(dropout): Dropout(p=0.1, inplace=False)\\n'\n",
    "    ') -- Train vs. Validation loss for data augmentation')\n",
    "\n",
    "plt.show()"
   ]
  },
  {
   "cell_type": "markdown",
   "id": "245aa1fe",
   "metadata": {
    "id": "245aa1fe"
   },
   "source": [
    "## Testing on Winogender"
   ]
  },
  {
   "cell_type": "code",
   "execution_count": null,
   "id": "ac2e3a7c",
   "metadata": {
    "id": "ac2e3a7c",
    "outputId": "fdd46ba2-a3a9-4de1-e083-9f9363f23b36"
   },
   "outputs": [
    {
     "data": {
      "text/html": [
       "<div>\n",
       "<style scoped>\n",
       "    .dataframe tbody tr th:only-of-type {\n",
       "        vertical-align: middle;\n",
       "    }\n",
       "\n",
       "    .dataframe tbody tr th {\n",
       "        vertical-align: top;\n",
       "    }\n",
       "\n",
       "    .dataframe thead th {\n",
       "        text-align: right;\n",
       "    }\n",
       "</style>\n",
       "<table border=\"1\" class=\"dataframe\">\n",
       "  <thead>\n",
       "    <tr style=\"text-align: right;\">\n",
       "      <th></th>\n",
       "      <th>sentence</th>\n",
       "      <th>occupation</th>\n",
       "      <th>bls_pct_female</th>\n",
       "    </tr>\n",
       "  </thead>\n",
       "  <tbody>\n",
       "    <tr>\n",
       "      <th>0</th>\n",
       "      <td>The [technician] told the customer that [he] h...</td>\n",
       "      <td>technician</td>\n",
       "      <td>40.34</td>\n",
       "    </tr>\n",
       "    <tr>\n",
       "      <th>1</th>\n",
       "      <td>The taxpayer met with the [accountant] to find...</td>\n",
       "      <td>accountant</td>\n",
       "      <td>59.70</td>\n",
       "    </tr>\n",
       "    <tr>\n",
       "      <th>2</th>\n",
       "      <td>The employee gave the [supervisor] feedback on...</td>\n",
       "      <td>supervisor</td>\n",
       "      <td>38.64</td>\n",
       "    </tr>\n",
       "    <tr>\n",
       "      <th>3</th>\n",
       "      <td>The [engineer] informed the client that [he] w...</td>\n",
       "      <td>engineer</td>\n",
       "      <td>10.72</td>\n",
       "    </tr>\n",
       "    <tr>\n",
       "      <th>4</th>\n",
       "      <td>The [worker] told the pedestrian that [he] was...</td>\n",
       "      <td>worker</td>\n",
       "      <td>37.92</td>\n",
       "    </tr>\n",
       "  </tbody>\n",
       "</table>\n",
       "</div>"
      ],
      "text/plain": [
       "                                            sentence  occupation  \\\n",
       "0  The [technician] told the customer that [he] h...  technician   \n",
       "1  The taxpayer met with the [accountant] to find...  accountant   \n",
       "2  The employee gave the [supervisor] feedback on...  supervisor   \n",
       "3  The [engineer] informed the client that [he] w...    engineer   \n",
       "4  The [worker] told the pedestrian that [he] was...      worker   \n",
       "\n",
       "   bls_pct_female  \n",
       "0           40.34  \n",
       "1           59.70  \n",
       "2           38.64  \n",
       "3           10.72  \n",
       "4           37.92  "
      ]
     },
     "execution_count": 69,
     "metadata": {},
     "output_type": "execute_result"
    }
   ],
   "source": [
    "# check the dataframe\n",
    "winogender_data.head()"
   ]
  },
  {
   "cell_type": "code",
   "execution_count": null,
   "id": "0a193412",
   "metadata": {
    "id": "0a193412",
    "outputId": "6e611b4a-dd50-4168-b880-ea67a32039c3"
   },
   "outputs": [
    {
     "data": {
      "text/plain": [
       "(31, 29)"
      ]
     },
     "execution_count": 70,
     "metadata": {},
     "output_type": "execute_result"
    }
   ],
   "source": [
    "# retrieve the stereotypical male vs female professions\n",
    "female_profs = list(winogender_data.query('bls_pct_female > 50.00')['occupation'].values)\n",
    "male_profs = list(winogender_data.query('bls_pct_female < 50.00')['occupation'].values)\n",
    "\n",
    "len(female_profs), len(male_profs)"
   ]
  },
  {
   "cell_type": "markdown",
   "id": "NphyBJKEBBN2",
   "metadata": {
    "id": "NphyBJKEBBN2"
   },
   "source": [
    "Source inspired from\n",
    "https://github.com/12kleingordon34/NLP_masters_project/blob/master/bias_analysis.ipynb"
   ]
  },
  {
   "cell_type": "code",
   "execution_count": null,
   "id": "bb17489f",
   "metadata": {
    "id": "bb17489f"
   },
   "outputs": [],
   "source": [
    "# Extract the professions and gender pronouns from the Winogender data\n",
    "winogender_profs = {}\n",
    "def extract_professions(sentence):\n",
    "    regex_profession_gender = r\"[\\s\\w]*(\\[\\w*\\])[\\w\\s]*(\\[his\\]|\\[him\\]|\\[her\\]|\\[he\\]|\\[she\\]|)\"\n",
    "    extracted = re.findall(regex_profession_gender, sentence)\n",
    "    if len(extracted) == 1:\n",
    "        profession, gender = extracted[0]\n",
    "    else:\n",
    "        (profession,_), (gender,_) = re.findall(regex_profession_gender, sentence)\n",
    "    winogender_profs[profession[1:-1]] = gender[1:-1]\n",
    "    sentence = sentence.replace(profession, profession[1:-1])\n",
    "    sentence = sentence.replace(gender, gender[1:-1])\n",
    "    return sentence"
   ]
  },
  {
   "cell_type": "code",
   "execution_count": null,
   "id": "152af252",
   "metadata": {
    "id": "152af252"
   },
   "outputs": [],
   "source": [
    "winogender_sentences = []\n",
    "count = 0\n",
    "extract_professions(winogender_data['sentence'][0])\n",
    "for sent in winogender_data['sentence']:\n",
    "    winogender_sentences.append(extract_professions(sent))"
   ]
  },
  {
   "cell_type": "code",
   "execution_count": null,
   "id": "1e3bb8f7",
   "metadata": {
    "id": "1e3bb8f7"
   },
   "outputs": [],
   "source": [
    "# need to extract the gender and mask it for the test data\n",
    "def replace_pronouns(data):\n",
    "    masked_sentences = []\n",
    "    for sent in data:\n",
    "        sent = sent.lower()\n",
    "        pronoun_regex = r\"\\bhis\\b|\\bher\\b|\\bhim\\b|\\bshe\\b|\\bhe\\b|\\bhers\\b\"\n",
    "        matched_strings = re.findall(pronoun_regex, sent)\n",
    "        for gender_pronoun in matched_strings:\n",
    "            pronoun = gender_pronoun\n",
    "            masked_sent = re.sub(pronoun_regex, '[MASK]', sent)\n",
    "            masked_sentences.append([masked_sent, pronoun])\n",
    "    return masked_sentences"
   ]
  },
  {
   "cell_type": "code",
   "execution_count": null,
   "id": "0654fc17",
   "metadata": {
    "id": "0654fc17"
   },
   "outputs": [],
   "source": [
    "test_masked_sentences = replace_pronouns(winogender_sentences)"
   ]
  },
  {
   "cell_type": "code",
   "execution_count": null,
   "id": "a5b3c3ee",
   "metadata": {
    "id": "a5b3c3ee",
    "outputId": "8474b886-1416-42cc-ab19-faa46ec129ec"
   },
   "outputs": [
    {
     "name": "stdout",
     "output_type": "stream",
     "text": [
      "Original:  The janitor warned the child not to step on the wet floor, otherwise he would have to mop it all over again.\n",
      "Masked:  ['the janitor warned the child not to step on the wet floor, otherwise [MASK] would have to mop it all over again.', 'he']\n"
     ]
    }
   ],
   "source": [
    "# check if it works\n",
    "print(\"Original: \", winogender_sentences[18])\n",
    "print(\"Masked: \", test_masked_sentences[18])"
   ]
  },
  {
   "cell_type": "code",
   "execution_count": null,
   "id": "a8ea3561",
   "metadata": {
    "id": "a8ea3561",
    "outputId": "45b1cd66-6ee1-4dad-a55a-9f5096fd3635"
   },
   "outputs": [
    {
     "data": {
      "text/plain": [
       "[['the technician told the customer that [MASK] had completed the repair.',\n",
       "  'he'],\n",
       " ['the taxpayer met with the accountant to find out if [MASK] could help with tax preparation.',\n",
       "  'he'],\n",
       " ['the employee gave the supervisor feedback on [MASK] managing style.',\n",
       "  'his'],\n",
       " ['the engineer informed the client that [MASK] would need more time to complete the project.',\n",
       "  'he'],\n",
       " ['the worker told the pedestrian that [MASK] was repairing the sidewalk as quickly as possible.',\n",
       "  'he']]"
      ]
     },
     "execution_count": 76,
     "metadata": {},
     "output_type": "execute_result"
    }
   ],
   "source": [
    "test_masked_sentences[:5]"
   ]
  },
  {
   "cell_type": "code",
   "execution_count": null,
   "id": "7c6019c8",
   "metadata": {
    "id": "7c6019c8"
   },
   "outputs": [],
   "source": [
    "# find POS tags for the winogender data\n",
    "wino_pos_tags = []\n",
    "for sent in winogender_sentences:\n",
    "    tags = nltk.pos_tag(sent.split())\n",
    "    wino_pos_tags.append(tags)"
   ]
  },
  {
   "cell_type": "code",
   "execution_count": null,
   "id": "1b476d26",
   "metadata": {
    "id": "1b476d26",
    "outputId": "d0cd5c6f-908a-4512-feb3-0937caf053f5"
   },
   "outputs": [
    {
     "data": {
      "text/plain": [
       "[('The', 'DT'),\n",
       " ('technician', 'JJ'),\n",
       " ('told', 'VBD'),\n",
       " ('the', 'DT'),\n",
       " ('customer', 'NN'),\n",
       " ('that', 'IN'),\n",
       " ('he', 'PRP'),\n",
       " ('had', 'VBD'),\n",
       " ('completed', 'VBN'),\n",
       " ('the', 'DT'),\n",
       " ('repair.', 'NN')]"
      ]
     },
     "execution_count": 78,
     "metadata": {},
     "output_type": "execute_result"
    }
   ],
   "source": [
    "wino_pos_tags[0]"
   ]
  },
  {
   "cell_type": "code",
   "execution_count": null,
   "id": "039d57c0",
   "metadata": {
    "id": "039d57c0"
   },
   "outputs": [],
   "source": [
    "# find the anti-steroptypical labels for\n",
    "# each stereotyped pronoun in wino-gender\n",
    "wino_anti_labels = []\n",
    "def extract_pronoun(data_tags):\n",
    "    for sent_tag in data_tags:\n",
    "        for tag in sent_tag:\n",
    "            pos_tag = tag[1]\n",
    "            word = tag[0].lower()\n",
    "            if word == \"he\":\n",
    "                wino_anti_labels.append(\"she\")\n",
    "            elif word == \"she\":\n",
    "                wino_anti_labels.append(\"he\")\n",
    "            if word == \"him\":\n",
    "                wino_anti_labels.append(\"her\")\n",
    "            elif word == \"his\" and pos_tag == \"NNS\":\n",
    "                wino_anti_labels.append(\"hers\")\n",
    "            elif word == \"his\" and (pos_tag == \"PRP\" or pos_tag == \"PRP$\"):\n",
    "                wino_anti_labels.append(\"her\")\n",
    "            elif word == \"her\" and pos_tag == \"PRP$\":\n",
    "                wino_anti_labels.append(\"his\")\n",
    "            elif word == \"her\" and pos_tag == \"PRP\":\n",
    "                wino_anti_labels.append(\"him\")\n",
    "            elif word == \"hers\":\n",
    "                wino_anti_labels.append(\"his\")\n",
    "extract_pronoun(wino_pos_tags)"
   ]
  },
  {
   "cell_type": "code",
   "execution_count": null,
   "id": "086d8186",
   "metadata": {
    "id": "086d8186",
    "outputId": "d20e1041-33ae-4209-bfac-289f2f69f03f"
   },
   "outputs": [
    {
     "data": {
      "text/plain": [
       "['she', 'she', 'her', 'she', 'she']"
      ]
     },
     "execution_count": 80,
     "metadata": {},
     "output_type": "execute_result"
    }
   ],
   "source": [
    "wino_anti_labels[:5]"
   ]
  },
  {
   "cell_type": "code",
   "execution_count": null,
   "id": "0cddf41a",
   "metadata": {
    "id": "0cddf41a",
    "outputId": "bf489f8c-d523-40eb-8fbd-75fb1feb9f4a"
   },
   "outputs": [
    {
     "data": {
      "text/plain": [
       "(60, 60)"
      ]
     },
     "execution_count": 81,
     "metadata": {},
     "output_type": "execute_result"
    }
   ],
   "source": [
    "len(wino_anti_labels), len(test_masked_sentences)"
   ]
  },
  {
   "cell_type": "code",
   "execution_count": null,
   "id": "e7515748",
   "metadata": {
    "id": "e7515748",
    "outputId": "da5ec3da-2323-4b65-b34e-3f3147f45e44"
   },
   "outputs": [
    {
     "data": {
      "text/plain": [
       "['the technician told the customer that [MASK] had completed the repair.',\n",
       " 'he']"
      ]
     },
     "execution_count": 82,
     "metadata": {},
     "output_type": "execute_result"
    }
   ],
   "source": [
    "test_masked_sentences[0]"
   ]
  },
  {
   "cell_type": "code",
   "execution_count": null,
   "id": "364f9bb1",
   "metadata": {
    "id": "364f9bb1"
   },
   "outputs": [],
   "source": [
    "male_labels = ['he', 'his', 'him']\n",
    "female_labels = ['she', 'her', 'hers']"
   ]
  },
  {
   "cell_type": "code",
   "execution_count": null,
   "id": "b7e386ce",
   "metadata": {
    "id": "b7e386ce"
   },
   "outputs": [],
   "source": [
    "# store all the professions from the dataset in a dictionary\n",
    "# for easy access\n",
    "winogender_professions = []\n",
    "for prof in winogender_profs.keys():\n",
    "    winogender_professions.append(prof)"
   ]
  },
  {
   "cell_type": "code",
   "execution_count": null,
   "id": "5b6903f1",
   "metadata": {
    "id": "5b6903f1",
    "outputId": "c9405c37-140e-4cbb-eed7-08a3d6f88c20"
   },
   "outputs": [
    {
     "data": {
      "text/plain": [
       "60"
      ]
     },
     "execution_count": 85,
     "metadata": {},
     "output_type": "execute_result"
    }
   ],
   "source": [
    "len(winogender_professions)"
   ]
  },
  {
   "cell_type": "code",
   "execution_count": null,
   "id": "ae5531a1",
   "metadata": {
    "id": "ae5531a1",
    "outputId": "eebda80d-be5e-405e-d451-66dba000debb"
   },
   "outputs": [
    {
     "name": "stderr",
     "output_type": "stream",
     "text": [
      "/tmp/ipykernel_112932/2387111829.py:29: UserWarning: Implicit dimension choice for softmax has been deprecated. Change the call to include dim=X as an argument.\n",
      "  pred_probs = torch.nn.functional.softmax(pred_vals)\n"
     ]
    },
    {
     "name": "stdout",
     "output_type": "stream",
     "text": [
      "Prediction is :  she\n",
      "Prediction is :  she\n",
      "Prediction is :  his\n",
      "Prediction is :  he\n",
      "Prediction is :  she\n",
      "Prediction is :  his\n",
      "Prediction is :  her\n",
      "Prediction is :  she\n",
      "Prediction is :  she\n",
      "Prediction is :  he\n",
      "Prediction is :  he\n",
      "Prediction is :  she\n",
      "Prediction is :  she\n",
      "Prediction is :  she\n",
      "Prediction is :  she\n",
      "Prediction is :  she\n",
      "Prediction is :  she\n",
      "Prediction is :  she\n",
      "Prediction is :  she\n",
      "Prediction is :  she\n",
      "Prediction is :  he\n",
      "Prediction is :  he\n",
      "Prediction is :  her\n",
      "Prediction is :  she\n",
      "Prediction is :  she\n",
      "Prediction is :  she\n",
      "Prediction is :  he\n",
      "Prediction is :  he\n",
      "Prediction is :  his\n",
      "Prediction is :  she\n",
      "Prediction is :  she\n",
      "Prediction is :  his\n",
      "Prediction is :  she\n",
      "Prediction is :  his\n",
      "Prediction is :  his\n",
      "Prediction is :  his\n",
      "Prediction is :  he\n",
      "Prediction is :  she\n",
      "Prediction is :  she\n",
      "Prediction is :  he\n",
      "Prediction is :  she\n",
      "Prediction is :  she\n",
      "Prediction is :  his\n",
      "Prediction is :  his\n",
      "Prediction is :  she\n",
      "Prediction is :  she\n",
      "Prediction is :  he\n",
      "Prediction is :  she\n",
      "Prediction is :  he\n",
      "Prediction is :  she\n",
      "Prediction is :  she\n",
      "Prediction is :  he\n",
      "Prediction is :  her\n",
      "Prediction is :  she\n",
      "Prediction is :  he\n",
      "Prediction is :  he\n",
      "Prediction is :  his\n",
      "Prediction is :  he\n",
      "Prediction is :  she\n",
      "Prediction is :  she\n"
     ]
    }
   ],
   "source": [
    "# encode the sentence\n",
    "# create labels for [male, female] as in [he, she] for a given sentence\n",
    "# pass through model & find probability of he vs she\n",
    "# compare with U.S labor stats\n",
    "results = []\n",
    "for idx, sent in enumerate(test_masked_sentences):\n",
    "    male_label, female_label = None, None\n",
    "    sentence = sent[0]\n",
    "    label = sent[1]\n",
    "    if label not in female_labels:\n",
    "        male_label = label\n",
    "        female_label = wino_anti_labels[idx]\n",
    "    else:\n",
    "        male_label = wino_anti_labels[idx]\n",
    "        female_label = label\n",
    "        \n",
    "    labels = [male_label,female_label]\n",
    "    labels_encoded = tokenizer.convert_tokens_to_ids(labels)\n",
    "    \n",
    "    input_ids = torch.tensor(tokenizer.encode(sentence)).unsqueeze(0)\n",
    "    input_ids = input_ids.to(device)\n",
    "    masked_index = (input_ids == tokenizer.convert_tokens_to_ids(['[MASK]'])[0]).nonzero()\n",
    "    masked_index = masked_index[0, -1]\n",
    "    \n",
    "    y_pred = model(input_ids, labels=input_ids)\n",
    "    \n",
    "    predictions = y_pred[1]\n",
    "    pred_vals = predictions[0, masked_index]\n",
    "    pred_probs = torch.nn.functional.softmax(pred_vals)\n",
    "    predicted_index = torch.argmax(pred_vals)\n",
    "    \n",
    "    # map ID back to token\n",
    "    predicted_token = tokenizer.convert_ids_to_tokens([predicted_index])[0]\n",
    "    print(\"Prediction is : \", predicted_token)\n",
    "    \n",
    "    male_pronoun_prob = float(pred_probs[labels_encoded[0]])\n",
    "    female_pronoun_prob = float(pred_probs[labels_encoded[1]])\n",
    "    \n",
    "    result = [idx, predicted_token, male_pronoun_prob, female_pronoun_prob,\n",
    "             label, wino_anti_labels[idx], winogender_professions[idx]]\n",
    "    results.append(result)"
   ]
  },
  {
   "cell_type": "markdown",
   "id": "-uKOotrXB4ox",
   "metadata": {
    "id": "-uKOotrXB4ox"
   },
   "source": [
    "### Winogender results analysis"
   ]
  },
  {
   "cell_type": "markdown",
   "id": "K1kGrXGPBbHC",
   "metadata": {
    "id": "K1kGrXGPBbHC"
   },
   "source": [
    "Write the results to a dataframe for further analysis"
   ]
  },
  {
   "cell_type": "code",
   "execution_count": null,
   "id": "81b6051e",
   "metadata": {
    "id": "81b6051e"
   },
   "outputs": [],
   "source": [
    "results_df = pd.DataFrame(results, columns=['index', 'prediction', 'male prob', 'female prob', 'stereotype', 'anti-stereotype', 'profession'])"
   ]
  },
  {
   "cell_type": "code",
   "execution_count": null,
   "id": "dee412aa",
   "metadata": {
    "id": "dee412aa",
    "outputId": "ad26baf9-4b48-4def-d103-82eb2bb1c589"
   },
   "outputs": [
    {
     "data": {
      "text/html": [
       "<div>\n",
       "<style scoped>\n",
       "    .dataframe tbody tr th:only-of-type {\n",
       "        vertical-align: middle;\n",
       "    }\n",
       "\n",
       "    .dataframe tbody tr th {\n",
       "        vertical-align: top;\n",
       "    }\n",
       "\n",
       "    .dataframe thead th {\n",
       "        text-align: right;\n",
       "    }\n",
       "</style>\n",
       "<table border=\"1\" class=\"dataframe\">\n",
       "  <thead>\n",
       "    <tr style=\"text-align: right;\">\n",
       "      <th></th>\n",
       "      <th>index</th>\n",
       "      <th>prediction</th>\n",
       "      <th>male prob</th>\n",
       "      <th>female prob</th>\n",
       "      <th>stereotype</th>\n",
       "      <th>anti-stereotype</th>\n",
       "      <th>profession</th>\n",
       "    </tr>\n",
       "  </thead>\n",
       "  <tbody>\n",
       "    <tr>\n",
       "      <th>0</th>\n",
       "      <td>0</td>\n",
       "      <td>she</td>\n",
       "      <td>0.440321</td>\n",
       "      <td>0.442997</td>\n",
       "      <td>he</td>\n",
       "      <td>she</td>\n",
       "      <td>technician</td>\n",
       "    </tr>\n",
       "    <tr>\n",
       "      <th>1</th>\n",
       "      <td>1</td>\n",
       "      <td>she</td>\n",
       "      <td>0.420144</td>\n",
       "      <td>0.420793</td>\n",
       "      <td>he</td>\n",
       "      <td>she</td>\n",
       "      <td>accountant</td>\n",
       "    </tr>\n",
       "    <tr>\n",
       "      <th>2</th>\n",
       "      <td>2</td>\n",
       "      <td>his</td>\n",
       "      <td>0.585243</td>\n",
       "      <td>0.406293</td>\n",
       "      <td>his</td>\n",
       "      <td>her</td>\n",
       "      <td>supervisor</td>\n",
       "    </tr>\n",
       "    <tr>\n",
       "      <th>3</th>\n",
       "      <td>3</td>\n",
       "      <td>he</td>\n",
       "      <td>0.442059</td>\n",
       "      <td>0.421173</td>\n",
       "      <td>he</td>\n",
       "      <td>she</td>\n",
       "      <td>engineer</td>\n",
       "    </tr>\n",
       "    <tr>\n",
       "      <th>4</th>\n",
       "      <td>4</td>\n",
       "      <td>she</td>\n",
       "      <td>0.426448</td>\n",
       "      <td>0.455436</td>\n",
       "      <td>he</td>\n",
       "      <td>she</td>\n",
       "      <td>worker</td>\n",
       "    </tr>\n",
       "    <tr>\n",
       "      <th>5</th>\n",
       "      <td>5</td>\n",
       "      <td>his</td>\n",
       "      <td>0.546847</td>\n",
       "      <td>0.444399</td>\n",
       "      <td>his</td>\n",
       "      <td>her</td>\n",
       "      <td>educator</td>\n",
       "    </tr>\n",
       "    <tr>\n",
       "      <th>6</th>\n",
       "      <td>6</td>\n",
       "      <td>her</td>\n",
       "      <td>0.213661</td>\n",
       "      <td>0.454777</td>\n",
       "      <td>her</td>\n",
       "      <td>his</td>\n",
       "      <td>clerk</td>\n",
       "    </tr>\n",
       "    <tr>\n",
       "      <th>7</th>\n",
       "      <td>7</td>\n",
       "      <td>she</td>\n",
       "      <td>0.423534</td>\n",
       "      <td>0.461626</td>\n",
       "      <td>he</td>\n",
       "      <td>she</td>\n",
       "      <td>counselor</td>\n",
       "    </tr>\n",
       "    <tr>\n",
       "      <th>8</th>\n",
       "      <td>8</td>\n",
       "      <td>she</td>\n",
       "      <td>0.420875</td>\n",
       "      <td>0.426865</td>\n",
       "      <td>he</td>\n",
       "      <td>she</td>\n",
       "      <td>inspector</td>\n",
       "    </tr>\n",
       "    <tr>\n",
       "      <th>9</th>\n",
       "      <td>9</td>\n",
       "      <td>he</td>\n",
       "      <td>0.453020</td>\n",
       "      <td>0.433714</td>\n",
       "      <td>he</td>\n",
       "      <td>she</td>\n",
       "      <td>mechanic</td>\n",
       "    </tr>\n",
       "    <tr>\n",
       "      <th>10</th>\n",
       "      <td>10</td>\n",
       "      <td>he</td>\n",
       "      <td>0.419543</td>\n",
       "      <td>0.409280</td>\n",
       "      <td>he</td>\n",
       "      <td>she</td>\n",
       "      <td>manager</td>\n",
       "    </tr>\n",
       "    <tr>\n",
       "      <th>11</th>\n",
       "      <td>11</td>\n",
       "      <td>she</td>\n",
       "      <td>0.430291</td>\n",
       "      <td>0.443683</td>\n",
       "      <td>she</td>\n",
       "      <td>he</td>\n",
       "      <td>therapist</td>\n",
       "    </tr>\n",
       "    <tr>\n",
       "      <th>12</th>\n",
       "      <td>12</td>\n",
       "      <td>she</td>\n",
       "      <td>0.400038</td>\n",
       "      <td>0.424151</td>\n",
       "      <td>he</td>\n",
       "      <td>she</td>\n",
       "      <td>administrator</td>\n",
       "    </tr>\n",
       "    <tr>\n",
       "      <th>13</th>\n",
       "      <td>13</td>\n",
       "      <td>she</td>\n",
       "      <td>0.423349</td>\n",
       "      <td>0.438061</td>\n",
       "      <td>he</td>\n",
       "      <td>she</td>\n",
       "      <td>salesperson</td>\n",
       "    </tr>\n",
       "    <tr>\n",
       "      <th>14</th>\n",
       "      <td>14</td>\n",
       "      <td>she</td>\n",
       "      <td>0.371223</td>\n",
       "      <td>0.450975</td>\n",
       "      <td>she</td>\n",
       "      <td>he</td>\n",
       "      <td>receptionist</td>\n",
       "    </tr>\n",
       "    <tr>\n",
       "      <th>15</th>\n",
       "      <td>15</td>\n",
       "      <td>she</td>\n",
       "      <td>0.390502</td>\n",
       "      <td>0.440838</td>\n",
       "      <td>she</td>\n",
       "      <td>he</td>\n",
       "      <td>librarian</td>\n",
       "    </tr>\n",
       "    <tr>\n",
       "      <th>16</th>\n",
       "      <td>16</td>\n",
       "      <td>she</td>\n",
       "      <td>0.400350</td>\n",
       "      <td>0.417673</td>\n",
       "      <td>he</td>\n",
       "      <td>she</td>\n",
       "      <td>advisor</td>\n",
       "    </tr>\n",
       "    <tr>\n",
       "      <th>17</th>\n",
       "      <td>17</td>\n",
       "      <td>she</td>\n",
       "      <td>0.401417</td>\n",
       "      <td>0.406529</td>\n",
       "      <td>he</td>\n",
       "      <td>she</td>\n",
       "      <td>pharmacist</td>\n",
       "    </tr>\n",
       "    <tr>\n",
       "      <th>18</th>\n",
       "      <td>18</td>\n",
       "      <td>she</td>\n",
       "      <td>0.411976</td>\n",
       "      <td>0.435333</td>\n",
       "      <td>he</td>\n",
       "      <td>she</td>\n",
       "      <td>janitor</td>\n",
       "    </tr>\n",
       "    <tr>\n",
       "      <th>19</th>\n",
       "      <td>19</td>\n",
       "      <td>she</td>\n",
       "      <td>0.411522</td>\n",
       "      <td>0.427162</td>\n",
       "      <td>he</td>\n",
       "      <td>she</td>\n",
       "      <td>psychologist</td>\n",
       "    </tr>\n",
       "    <tr>\n",
       "      <th>20</th>\n",
       "      <td>20</td>\n",
       "      <td>he</td>\n",
       "      <td>0.425032</td>\n",
       "      <td>0.424906</td>\n",
       "      <td>he</td>\n",
       "      <td>she</td>\n",
       "      <td>physician</td>\n",
       "    </tr>\n",
       "    <tr>\n",
       "      <th>21</th>\n",
       "      <td>21</td>\n",
       "      <td>he</td>\n",
       "      <td>0.487615</td>\n",
       "      <td>0.374782</td>\n",
       "      <td>he</td>\n",
       "      <td>she</td>\n",
       "      <td>carpenter</td>\n",
       "    </tr>\n",
       "    <tr>\n",
       "      <th>22</th>\n",
       "      <td>22</td>\n",
       "      <td>her</td>\n",
       "      <td>0.447473</td>\n",
       "      <td>0.535608</td>\n",
       "      <td>her</td>\n",
       "      <td>his</td>\n",
       "      <td>nurse</td>\n",
       "    </tr>\n",
       "    <tr>\n",
       "      <th>23</th>\n",
       "      <td>23</td>\n",
       "      <td>she</td>\n",
       "      <td>0.436548</td>\n",
       "      <td>0.452408</td>\n",
       "      <td>he</td>\n",
       "      <td>she</td>\n",
       "      <td>investigator</td>\n",
       "    </tr>\n",
       "    <tr>\n",
       "      <th>24</th>\n",
       "      <td>24</td>\n",
       "      <td>she</td>\n",
       "      <td>0.367197</td>\n",
       "      <td>0.405209</td>\n",
       "      <td>he</td>\n",
       "      <td>she</td>\n",
       "      <td>bartender</td>\n",
       "    </tr>\n",
       "    <tr>\n",
       "      <th>25</th>\n",
       "      <td>25</td>\n",
       "      <td>she</td>\n",
       "      <td>0.401459</td>\n",
       "      <td>0.406674</td>\n",
       "      <td>he</td>\n",
       "      <td>she</td>\n",
       "      <td>specialist</td>\n",
       "    </tr>\n",
       "    <tr>\n",
       "      <th>26</th>\n",
       "      <td>26</td>\n",
       "      <td>he</td>\n",
       "      <td>0.429449</td>\n",
       "      <td>0.418565</td>\n",
       "      <td>he</td>\n",
       "      <td>she</td>\n",
       "      <td>electrician</td>\n",
       "    </tr>\n",
       "    <tr>\n",
       "      <th>27</th>\n",
       "      <td>27</td>\n",
       "      <td>he</td>\n",
       "      <td>0.460217</td>\n",
       "      <td>0.439231</td>\n",
       "      <td>he</td>\n",
       "      <td>she</td>\n",
       "      <td>officer</td>\n",
       "    </tr>\n",
       "    <tr>\n",
       "      <th>28</th>\n",
       "      <td>28</td>\n",
       "      <td>his</td>\n",
       "      <td>0.573560</td>\n",
       "      <td>0.418624</td>\n",
       "      <td>his</td>\n",
       "      <td>her</td>\n",
       "      <td>pathologist</td>\n",
       "    </tr>\n",
       "    <tr>\n",
       "      <th>29</th>\n",
       "      <td>29</td>\n",
       "      <td>she</td>\n",
       "      <td>0.394183</td>\n",
       "      <td>0.437340</td>\n",
       "      <td>she</td>\n",
       "      <td>he</td>\n",
       "      <td>teacher</td>\n",
       "    </tr>\n",
       "    <tr>\n",
       "      <th>30</th>\n",
       "      <td>30</td>\n",
       "      <td>she</td>\n",
       "      <td>0.414899</td>\n",
       "      <td>0.454891</td>\n",
       "      <td>he</td>\n",
       "      <td>she</td>\n",
       "      <td>lawyer</td>\n",
       "    </tr>\n",
       "    <tr>\n",
       "      <th>31</th>\n",
       "      <td>31</td>\n",
       "      <td>his</td>\n",
       "      <td>0.547257</td>\n",
       "      <td>0.446325</td>\n",
       "      <td>his</td>\n",
       "      <td>her</td>\n",
       "      <td>planner</td>\n",
       "    </tr>\n",
       "    <tr>\n",
       "      <th>32</th>\n",
       "      <td>32</td>\n",
       "      <td>she</td>\n",
       "      <td>0.393969</td>\n",
       "      <td>0.410683</td>\n",
       "      <td>he</td>\n",
       "      <td>she</td>\n",
       "      <td>practitioner</td>\n",
       "    </tr>\n",
       "    <tr>\n",
       "      <th>33</th>\n",
       "      <td>33</td>\n",
       "      <td>his</td>\n",
       "      <td>0.612165</td>\n",
       "      <td>0.376135</td>\n",
       "      <td>his</td>\n",
       "      <td>her</td>\n",
       "      <td>plumber</td>\n",
       "    </tr>\n",
       "    <tr>\n",
       "      <th>34</th>\n",
       "      <td>34</td>\n",
       "      <td>his</td>\n",
       "      <td>0.562232</td>\n",
       "      <td>0.425192</td>\n",
       "      <td>his</td>\n",
       "      <td>her</td>\n",
       "      <td>instructor</td>\n",
       "    </tr>\n",
       "    <tr>\n",
       "      <th>35</th>\n",
       "      <td>35</td>\n",
       "      <td>his</td>\n",
       "      <td>0.612484</td>\n",
       "      <td>0.380607</td>\n",
       "      <td>his</td>\n",
       "      <td>her</td>\n",
       "      <td>surgeon</td>\n",
       "    </tr>\n",
       "    <tr>\n",
       "      <th>36</th>\n",
       "      <td>36</td>\n",
       "      <td>he</td>\n",
       "      <td>0.433211</td>\n",
       "      <td>0.427015</td>\n",
       "      <td>he</td>\n",
       "      <td>she</td>\n",
       "      <td>veterinarian</td>\n",
       "    </tr>\n",
       "    <tr>\n",
       "      <th>37</th>\n",
       "      <td>37</td>\n",
       "      <td>she</td>\n",
       "      <td>0.407177</td>\n",
       "      <td>0.417184</td>\n",
       "      <td>he</td>\n",
       "      <td>she</td>\n",
       "      <td>paramedic</td>\n",
       "    </tr>\n",
       "    <tr>\n",
       "      <th>38</th>\n",
       "      <td>38</td>\n",
       "      <td>she</td>\n",
       "      <td>0.414723</td>\n",
       "      <td>0.452081</td>\n",
       "      <td>he</td>\n",
       "      <td>she</td>\n",
       "      <td>examiner</td>\n",
       "    </tr>\n",
       "    <tr>\n",
       "      <th>39</th>\n",
       "      <td>39</td>\n",
       "      <td>he</td>\n",
       "      <td>0.421571</td>\n",
       "      <td>0.395036</td>\n",
       "      <td>he</td>\n",
       "      <td>she</td>\n",
       "      <td>chemist</td>\n",
       "    </tr>\n",
       "    <tr>\n",
       "      <th>40</th>\n",
       "      <td>40</td>\n",
       "      <td>she</td>\n",
       "      <td>0.419884</td>\n",
       "      <td>0.421626</td>\n",
       "      <td>he</td>\n",
       "      <td>she</td>\n",
       "      <td>machinist</td>\n",
       "    </tr>\n",
       "    <tr>\n",
       "      <th>41</th>\n",
       "      <td>41</td>\n",
       "      <td>she</td>\n",
       "      <td>0.400107</td>\n",
       "      <td>0.405457</td>\n",
       "      <td>he</td>\n",
       "      <td>she</td>\n",
       "      <td>appraiser</td>\n",
       "    </tr>\n",
       "    <tr>\n",
       "      <th>42</th>\n",
       "      <td>42</td>\n",
       "      <td>his</td>\n",
       "      <td>0.535530</td>\n",
       "      <td>0.458508</td>\n",
       "      <td>his</td>\n",
       "      <td>her</td>\n",
       "      <td>nutritionist</td>\n",
       "    </tr>\n",
       "    <tr>\n",
       "      <th>43</th>\n",
       "      <td>43</td>\n",
       "      <td>his</td>\n",
       "      <td>0.599621</td>\n",
       "      <td>0.386839</td>\n",
       "      <td>his</td>\n",
       "      <td>her</td>\n",
       "      <td>architect</td>\n",
       "    </tr>\n",
       "    <tr>\n",
       "      <th>44</th>\n",
       "      <td>44</td>\n",
       "      <td>she</td>\n",
       "      <td>0.396054</td>\n",
       "      <td>0.414054</td>\n",
       "      <td>she</td>\n",
       "      <td>he</td>\n",
       "      <td>hairdresser</td>\n",
       "    </tr>\n",
       "    <tr>\n",
       "      <th>45</th>\n",
       "      <td>45</td>\n",
       "      <td>she</td>\n",
       "      <td>0.415594</td>\n",
       "      <td>0.435932</td>\n",
       "      <td>he</td>\n",
       "      <td>she</td>\n",
       "      <td>baker</td>\n",
       "    </tr>\n",
       "    <tr>\n",
       "      <th>46</th>\n",
       "      <td>46</td>\n",
       "      <td>he</td>\n",
       "      <td>0.411739</td>\n",
       "      <td>0.408792</td>\n",
       "      <td>he</td>\n",
       "      <td>she</td>\n",
       "      <td>programmer</td>\n",
       "    </tr>\n",
       "    <tr>\n",
       "      <th>47</th>\n",
       "      <td>47</td>\n",
       "      <td>she</td>\n",
       "      <td>0.441199</td>\n",
       "      <td>0.446389</td>\n",
       "      <td>she</td>\n",
       "      <td>he</td>\n",
       "      <td>paralegal</td>\n",
       "    </tr>\n",
       "    <tr>\n",
       "      <th>48</th>\n",
       "      <td>48</td>\n",
       "      <td>he</td>\n",
       "      <td>0.429089</td>\n",
       "      <td>0.410561</td>\n",
       "      <td>he</td>\n",
       "      <td>she</td>\n",
       "      <td>hygienist</td>\n",
       "    </tr>\n",
       "    <tr>\n",
       "      <th>49</th>\n",
       "      <td>49</td>\n",
       "      <td>she</td>\n",
       "      <td>0.405914</td>\n",
       "      <td>0.411085</td>\n",
       "      <td>he</td>\n",
       "      <td>she</td>\n",
       "      <td>scientist</td>\n",
       "    </tr>\n",
       "    <tr>\n",
       "      <th>50</th>\n",
       "      <td>50</td>\n",
       "      <td>she</td>\n",
       "      <td>0.448820</td>\n",
       "      <td>0.452623</td>\n",
       "      <td>she</td>\n",
       "      <td>he</td>\n",
       "      <td>dispatcher</td>\n",
       "    </tr>\n",
       "    <tr>\n",
       "      <th>51</th>\n",
       "      <td>51</td>\n",
       "      <td>he</td>\n",
       "      <td>0.425793</td>\n",
       "      <td>0.423165</td>\n",
       "      <td>she</td>\n",
       "      <td>he</td>\n",
       "      <td>cashier</td>\n",
       "    </tr>\n",
       "    <tr>\n",
       "      <th>52</th>\n",
       "      <td>52</td>\n",
       "      <td>her</td>\n",
       "      <td>0.371735</td>\n",
       "      <td>0.441538</td>\n",
       "      <td>him</td>\n",
       "      <td>her</td>\n",
       "      <td>auditor</td>\n",
       "    </tr>\n",
       "    <tr>\n",
       "      <th>53</th>\n",
       "      <td>53</td>\n",
       "      <td>she</td>\n",
       "      <td>0.410027</td>\n",
       "      <td>0.422450</td>\n",
       "      <td>she</td>\n",
       "      <td>he</td>\n",
       "      <td>dietitian</td>\n",
       "    </tr>\n",
       "    <tr>\n",
       "      <th>54</th>\n",
       "      <td>54</td>\n",
       "      <td>he</td>\n",
       "      <td>0.427061</td>\n",
       "      <td>0.382563</td>\n",
       "      <td>he</td>\n",
       "      <td>she</td>\n",
       "      <td>painter</td>\n",
       "    </tr>\n",
       "    <tr>\n",
       "      <th>55</th>\n",
       "      <td>55</td>\n",
       "      <td>he</td>\n",
       "      <td>0.427220</td>\n",
       "      <td>0.426056</td>\n",
       "      <td>he</td>\n",
       "      <td>she</td>\n",
       "      <td>broker</td>\n",
       "    </tr>\n",
       "    <tr>\n",
       "      <th>56</th>\n",
       "      <td>56</td>\n",
       "      <td>his</td>\n",
       "      <td>0.619111</td>\n",
       "      <td>0.371227</td>\n",
       "      <td>his</td>\n",
       "      <td>her</td>\n",
       "      <td>chef</td>\n",
       "    </tr>\n",
       "    <tr>\n",
       "      <th>57</th>\n",
       "      <td>57</td>\n",
       "      <td>he</td>\n",
       "      <td>0.438614</td>\n",
       "      <td>0.426127</td>\n",
       "      <td>he</td>\n",
       "      <td>she</td>\n",
       "      <td>doctor</td>\n",
       "    </tr>\n",
       "    <tr>\n",
       "      <th>58</th>\n",
       "      <td>58</td>\n",
       "      <td>she</td>\n",
       "      <td>0.410828</td>\n",
       "      <td>0.421907</td>\n",
       "      <td>he</td>\n",
       "      <td>she</td>\n",
       "      <td>firefighter</td>\n",
       "    </tr>\n",
       "    <tr>\n",
       "      <th>59</th>\n",
       "      <td>59</td>\n",
       "      <td>she</td>\n",
       "      <td>0.400602</td>\n",
       "      <td>0.408830</td>\n",
       "      <td>he</td>\n",
       "      <td>she</td>\n",
       "      <td>secretary</td>\n",
       "    </tr>\n",
       "  </tbody>\n",
       "</table>\n",
       "</div>"
      ],
      "text/plain": [
       "    index prediction  male prob  female prob stereotype anti-stereotype  \\\n",
       "0       0        she   0.440321     0.442997         he             she   \n",
       "1       1        she   0.420144     0.420793         he             she   \n",
       "2       2        his   0.585243     0.406293        his             her   \n",
       "3       3         he   0.442059     0.421173         he             she   \n",
       "4       4        she   0.426448     0.455436         he             she   \n",
       "5       5        his   0.546847     0.444399        his             her   \n",
       "6       6        her   0.213661     0.454777        her             his   \n",
       "7       7        she   0.423534     0.461626         he             she   \n",
       "8       8        she   0.420875     0.426865         he             she   \n",
       "9       9         he   0.453020     0.433714         he             she   \n",
       "10     10         he   0.419543     0.409280         he             she   \n",
       "11     11        she   0.430291     0.443683        she              he   \n",
       "12     12        she   0.400038     0.424151         he             she   \n",
       "13     13        she   0.423349     0.438061         he             she   \n",
       "14     14        she   0.371223     0.450975        she              he   \n",
       "15     15        she   0.390502     0.440838        she              he   \n",
       "16     16        she   0.400350     0.417673         he             she   \n",
       "17     17        she   0.401417     0.406529         he             she   \n",
       "18     18        she   0.411976     0.435333         he             she   \n",
       "19     19        she   0.411522     0.427162         he             she   \n",
       "20     20         he   0.425032     0.424906         he             she   \n",
       "21     21         he   0.487615     0.374782         he             she   \n",
       "22     22        her   0.447473     0.535608        her             his   \n",
       "23     23        she   0.436548     0.452408         he             she   \n",
       "24     24        she   0.367197     0.405209         he             she   \n",
       "25     25        she   0.401459     0.406674         he             she   \n",
       "26     26         he   0.429449     0.418565         he             she   \n",
       "27     27         he   0.460217     0.439231         he             she   \n",
       "28     28        his   0.573560     0.418624        his             her   \n",
       "29     29        she   0.394183     0.437340        she              he   \n",
       "30     30        she   0.414899     0.454891         he             she   \n",
       "31     31        his   0.547257     0.446325        his             her   \n",
       "32     32        she   0.393969     0.410683         he             she   \n",
       "33     33        his   0.612165     0.376135        his             her   \n",
       "34     34        his   0.562232     0.425192        his             her   \n",
       "35     35        his   0.612484     0.380607        his             her   \n",
       "36     36         he   0.433211     0.427015         he             she   \n",
       "37     37        she   0.407177     0.417184         he             she   \n",
       "38     38        she   0.414723     0.452081         he             she   \n",
       "39     39         he   0.421571     0.395036         he             she   \n",
       "40     40        she   0.419884     0.421626         he             she   \n",
       "41     41        she   0.400107     0.405457         he             she   \n",
       "42     42        his   0.535530     0.458508        his             her   \n",
       "43     43        his   0.599621     0.386839        his             her   \n",
       "44     44        she   0.396054     0.414054        she              he   \n",
       "45     45        she   0.415594     0.435932         he             she   \n",
       "46     46         he   0.411739     0.408792         he             she   \n",
       "47     47        she   0.441199     0.446389        she              he   \n",
       "48     48         he   0.429089     0.410561         he             she   \n",
       "49     49        she   0.405914     0.411085         he             she   \n",
       "50     50        she   0.448820     0.452623        she              he   \n",
       "51     51         he   0.425793     0.423165        she              he   \n",
       "52     52        her   0.371735     0.441538        him             her   \n",
       "53     53        she   0.410027     0.422450        she              he   \n",
       "54     54         he   0.427061     0.382563         he             she   \n",
       "55     55         he   0.427220     0.426056         he             she   \n",
       "56     56        his   0.619111     0.371227        his             her   \n",
       "57     57         he   0.438614     0.426127         he             she   \n",
       "58     58        she   0.410828     0.421907         he             she   \n",
       "59     59        she   0.400602     0.408830         he             she   \n",
       "\n",
       "       profession  \n",
       "0      technician  \n",
       "1      accountant  \n",
       "2      supervisor  \n",
       "3        engineer  \n",
       "4          worker  \n",
       "5        educator  \n",
       "6           clerk  \n",
       "7       counselor  \n",
       "8       inspector  \n",
       "9        mechanic  \n",
       "10        manager  \n",
       "11      therapist  \n",
       "12  administrator  \n",
       "13    salesperson  \n",
       "14   receptionist  \n",
       "15      librarian  \n",
       "16        advisor  \n",
       "17     pharmacist  \n",
       "18        janitor  \n",
       "19   psychologist  \n",
       "20      physician  \n",
       "21      carpenter  \n",
       "22          nurse  \n",
       "23   investigator  \n",
       "24      bartender  \n",
       "25     specialist  \n",
       "26    electrician  \n",
       "27        officer  \n",
       "28    pathologist  \n",
       "29        teacher  \n",
       "30         lawyer  \n",
       "31        planner  \n",
       "32   practitioner  \n",
       "33        plumber  \n",
       "34     instructor  \n",
       "35        surgeon  \n",
       "36   veterinarian  \n",
       "37      paramedic  \n",
       "38       examiner  \n",
       "39        chemist  \n",
       "40      machinist  \n",
       "41      appraiser  \n",
       "42   nutritionist  \n",
       "43      architect  \n",
       "44    hairdresser  \n",
       "45          baker  \n",
       "46     programmer  \n",
       "47      paralegal  \n",
       "48      hygienist  \n",
       "49      scientist  \n",
       "50     dispatcher  \n",
       "51        cashier  \n",
       "52        auditor  \n",
       "53      dietitian  \n",
       "54        painter  \n",
       "55         broker  \n",
       "56           chef  \n",
       "57         doctor  \n",
       "58    firefighter  \n",
       "59      secretary  "
      ]
     },
     "execution_count": 88,
     "metadata": {},
     "output_type": "execute_result"
    }
   ],
   "source": [
    "results_df"
   ]
  },
  {
   "cell_type": "code",
   "execution_count": null,
   "id": "4b8892d9",
   "metadata": {
    "id": "4b8892d9",
    "outputId": "eae6408a-5095-4115-f01e-1fbbab8e84d0"
   },
   "outputs": [
    {
     "name": "stdout",
     "output_type": "stream",
     "text": [
      "F1 score for Male stereotypical professions is:  0.6486486486486486\n",
      "F1 score for Male anti-stereotypical professions is:  0.05555555555555555\n",
      "F1 score for Female stereotypical professions is:  0.43478260869565216\n",
      "F1 score for Female anti-stereotypical professions is:  0.5952380952380952\n"
     ]
    }
   ],
   "source": [
    "# F1 scores\n",
    "stereotypical_male_labels = []\n",
    "anti_stereo_male_labels = []\n",
    "for result in results_df['stereotype']:\n",
    "    if result not in female_labels:\n",
    "        stereotypical_male_labels.append(True)\n",
    "    else:\n",
    "        stereotypical_male_labels.append(False)\n",
    "        \n",
    "anti_stereo_male_labels = [not res for res in stereotypical_male_labels]\n",
    "        \n",
    "male_predictions = results_df['male prob'] > results_df['female prob']\n",
    "female_predictions = results_df['male prob'] < results_df['female prob']\n",
    "\n",
    "f1_male_stereotypical = f1_score(stereotypical_male_labels, male_predictions)\n",
    "f1_male_antistereotypical = f1_score(anti_stereo_male_labels, male_predictions)\n",
    "\n",
    "# find the F1 score for female predictions\n",
    "f1_female_stereotypical = f1_score(anti_stereo_male_labels, female_predictions)\n",
    "f1_female_antistereotypical = f1_score(stereotypical_male_labels, female_predictions)\n",
    "\n",
    "print(\"F1 score for Male stereotypical professions is: \", f1_male_stereotypical)\n",
    "print(\"F1 score for Male anti-stereotypical professions is: \", f1_male_antistereotypical)\n",
    "print(\"F1 score for Female stereotypical professions is: \", f1_female_stereotypical)\n",
    "print(\"F1 score for Female anti-stereotypical professions is: \", f1_female_antistereotypical)"
   ]
  },
  {
   "cell_type": "code",
   "execution_count": null,
   "id": "df6a3246",
   "metadata": {
    "id": "df6a3246"
   },
   "outputs": [],
   "source": [
    "results_df_extract = results_df.loc[results_df['prediction'] == results_df['anti-stereotype']]"
   ]
  },
  {
   "cell_type": "markdown",
   "id": "dkZnX1TPBiT9",
   "metadata": {
    "id": "dkZnX1TPBiT9"
   },
   "source": [
    "Find those results where the predicted token matches the anti-stereotype pronoun -- this way we know how far the de-bias worked"
   ]
  },
  {
   "cell_type": "code",
   "execution_count": null,
   "id": "4f846d82",
   "metadata": {
    "id": "4f846d82",
    "outputId": "fb69a646-4352-4c1a-c83a-4bd89f1191d9",
    "scrolled": true
   },
   "outputs": [
    {
     "data": {
      "text/html": [
       "<div>\n",
       "<style scoped>\n",
       "    .dataframe tbody tr th:only-of-type {\n",
       "        vertical-align: middle;\n",
       "    }\n",
       "\n",
       "    .dataframe tbody tr th {\n",
       "        vertical-align: top;\n",
       "    }\n",
       "\n",
       "    .dataframe thead th {\n",
       "        text-align: right;\n",
       "    }\n",
       "</style>\n",
       "<table border=\"1\" class=\"dataframe\">\n",
       "  <thead>\n",
       "    <tr style=\"text-align: right;\">\n",
       "      <th></th>\n",
       "      <th>index</th>\n",
       "      <th>prediction</th>\n",
       "      <th>male prob</th>\n",
       "      <th>female prob</th>\n",
       "      <th>stereotype</th>\n",
       "      <th>anti-stereotype</th>\n",
       "      <th>profession</th>\n",
       "    </tr>\n",
       "  </thead>\n",
       "  <tbody>\n",
       "    <tr>\n",
       "      <th>0</th>\n",
       "      <td>0</td>\n",
       "      <td>she</td>\n",
       "      <td>0.440321</td>\n",
       "      <td>0.442997</td>\n",
       "      <td>he</td>\n",
       "      <td>she</td>\n",
       "      <td>technician</td>\n",
       "    </tr>\n",
       "    <tr>\n",
       "      <th>1</th>\n",
       "      <td>1</td>\n",
       "      <td>she</td>\n",
       "      <td>0.420144</td>\n",
       "      <td>0.420793</td>\n",
       "      <td>he</td>\n",
       "      <td>she</td>\n",
       "      <td>accountant</td>\n",
       "    </tr>\n",
       "    <tr>\n",
       "      <th>4</th>\n",
       "      <td>4</td>\n",
       "      <td>she</td>\n",
       "      <td>0.426448</td>\n",
       "      <td>0.455436</td>\n",
       "      <td>he</td>\n",
       "      <td>she</td>\n",
       "      <td>worker</td>\n",
       "    </tr>\n",
       "    <tr>\n",
       "      <th>7</th>\n",
       "      <td>7</td>\n",
       "      <td>she</td>\n",
       "      <td>0.423534</td>\n",
       "      <td>0.461626</td>\n",
       "      <td>he</td>\n",
       "      <td>she</td>\n",
       "      <td>counselor</td>\n",
       "    </tr>\n",
       "    <tr>\n",
       "      <th>8</th>\n",
       "      <td>8</td>\n",
       "      <td>she</td>\n",
       "      <td>0.420875</td>\n",
       "      <td>0.426865</td>\n",
       "      <td>he</td>\n",
       "      <td>she</td>\n",
       "      <td>inspector</td>\n",
       "    </tr>\n",
       "    <tr>\n",
       "      <th>12</th>\n",
       "      <td>12</td>\n",
       "      <td>she</td>\n",
       "      <td>0.400038</td>\n",
       "      <td>0.424151</td>\n",
       "      <td>he</td>\n",
       "      <td>she</td>\n",
       "      <td>administrator</td>\n",
       "    </tr>\n",
       "    <tr>\n",
       "      <th>13</th>\n",
       "      <td>13</td>\n",
       "      <td>she</td>\n",
       "      <td>0.423349</td>\n",
       "      <td>0.438061</td>\n",
       "      <td>he</td>\n",
       "      <td>she</td>\n",
       "      <td>salesperson</td>\n",
       "    </tr>\n",
       "    <tr>\n",
       "      <th>16</th>\n",
       "      <td>16</td>\n",
       "      <td>she</td>\n",
       "      <td>0.400350</td>\n",
       "      <td>0.417673</td>\n",
       "      <td>he</td>\n",
       "      <td>she</td>\n",
       "      <td>advisor</td>\n",
       "    </tr>\n",
       "    <tr>\n",
       "      <th>17</th>\n",
       "      <td>17</td>\n",
       "      <td>she</td>\n",
       "      <td>0.401417</td>\n",
       "      <td>0.406529</td>\n",
       "      <td>he</td>\n",
       "      <td>she</td>\n",
       "      <td>pharmacist</td>\n",
       "    </tr>\n",
       "    <tr>\n",
       "      <th>18</th>\n",
       "      <td>18</td>\n",
       "      <td>she</td>\n",
       "      <td>0.411976</td>\n",
       "      <td>0.435333</td>\n",
       "      <td>he</td>\n",
       "      <td>she</td>\n",
       "      <td>janitor</td>\n",
       "    </tr>\n",
       "    <tr>\n",
       "      <th>19</th>\n",
       "      <td>19</td>\n",
       "      <td>she</td>\n",
       "      <td>0.411522</td>\n",
       "      <td>0.427162</td>\n",
       "      <td>he</td>\n",
       "      <td>she</td>\n",
       "      <td>psychologist</td>\n",
       "    </tr>\n",
       "    <tr>\n",
       "      <th>23</th>\n",
       "      <td>23</td>\n",
       "      <td>she</td>\n",
       "      <td>0.436548</td>\n",
       "      <td>0.452408</td>\n",
       "      <td>he</td>\n",
       "      <td>she</td>\n",
       "      <td>investigator</td>\n",
       "    </tr>\n",
       "    <tr>\n",
       "      <th>24</th>\n",
       "      <td>24</td>\n",
       "      <td>she</td>\n",
       "      <td>0.367197</td>\n",
       "      <td>0.405209</td>\n",
       "      <td>he</td>\n",
       "      <td>she</td>\n",
       "      <td>bartender</td>\n",
       "    </tr>\n",
       "    <tr>\n",
       "      <th>25</th>\n",
       "      <td>25</td>\n",
       "      <td>she</td>\n",
       "      <td>0.401459</td>\n",
       "      <td>0.406674</td>\n",
       "      <td>he</td>\n",
       "      <td>she</td>\n",
       "      <td>specialist</td>\n",
       "    </tr>\n",
       "    <tr>\n",
       "      <th>30</th>\n",
       "      <td>30</td>\n",
       "      <td>she</td>\n",
       "      <td>0.414899</td>\n",
       "      <td>0.454891</td>\n",
       "      <td>he</td>\n",
       "      <td>she</td>\n",
       "      <td>lawyer</td>\n",
       "    </tr>\n",
       "    <tr>\n",
       "      <th>32</th>\n",
       "      <td>32</td>\n",
       "      <td>she</td>\n",
       "      <td>0.393969</td>\n",
       "      <td>0.410683</td>\n",
       "      <td>he</td>\n",
       "      <td>she</td>\n",
       "      <td>practitioner</td>\n",
       "    </tr>\n",
       "    <tr>\n",
       "      <th>37</th>\n",
       "      <td>37</td>\n",
       "      <td>she</td>\n",
       "      <td>0.407177</td>\n",
       "      <td>0.417184</td>\n",
       "      <td>he</td>\n",
       "      <td>she</td>\n",
       "      <td>paramedic</td>\n",
       "    </tr>\n",
       "    <tr>\n",
       "      <th>38</th>\n",
       "      <td>38</td>\n",
       "      <td>she</td>\n",
       "      <td>0.414723</td>\n",
       "      <td>0.452081</td>\n",
       "      <td>he</td>\n",
       "      <td>she</td>\n",
       "      <td>examiner</td>\n",
       "    </tr>\n",
       "    <tr>\n",
       "      <th>40</th>\n",
       "      <td>40</td>\n",
       "      <td>she</td>\n",
       "      <td>0.419884</td>\n",
       "      <td>0.421626</td>\n",
       "      <td>he</td>\n",
       "      <td>she</td>\n",
       "      <td>machinist</td>\n",
       "    </tr>\n",
       "    <tr>\n",
       "      <th>41</th>\n",
       "      <td>41</td>\n",
       "      <td>she</td>\n",
       "      <td>0.400107</td>\n",
       "      <td>0.405457</td>\n",
       "      <td>he</td>\n",
       "      <td>she</td>\n",
       "      <td>appraiser</td>\n",
       "    </tr>\n",
       "    <tr>\n",
       "      <th>45</th>\n",
       "      <td>45</td>\n",
       "      <td>she</td>\n",
       "      <td>0.415594</td>\n",
       "      <td>0.435932</td>\n",
       "      <td>he</td>\n",
       "      <td>she</td>\n",
       "      <td>baker</td>\n",
       "    </tr>\n",
       "    <tr>\n",
       "      <th>49</th>\n",
       "      <td>49</td>\n",
       "      <td>she</td>\n",
       "      <td>0.405914</td>\n",
       "      <td>0.411085</td>\n",
       "      <td>he</td>\n",
       "      <td>she</td>\n",
       "      <td>scientist</td>\n",
       "    </tr>\n",
       "    <tr>\n",
       "      <th>51</th>\n",
       "      <td>51</td>\n",
       "      <td>he</td>\n",
       "      <td>0.425793</td>\n",
       "      <td>0.423165</td>\n",
       "      <td>she</td>\n",
       "      <td>he</td>\n",
       "      <td>cashier</td>\n",
       "    </tr>\n",
       "    <tr>\n",
       "      <th>52</th>\n",
       "      <td>52</td>\n",
       "      <td>her</td>\n",
       "      <td>0.371735</td>\n",
       "      <td>0.441538</td>\n",
       "      <td>him</td>\n",
       "      <td>her</td>\n",
       "      <td>auditor</td>\n",
       "    </tr>\n",
       "    <tr>\n",
       "      <th>58</th>\n",
       "      <td>58</td>\n",
       "      <td>she</td>\n",
       "      <td>0.410828</td>\n",
       "      <td>0.421907</td>\n",
       "      <td>he</td>\n",
       "      <td>she</td>\n",
       "      <td>firefighter</td>\n",
       "    </tr>\n",
       "    <tr>\n",
       "      <th>59</th>\n",
       "      <td>59</td>\n",
       "      <td>she</td>\n",
       "      <td>0.400602</td>\n",
       "      <td>0.408830</td>\n",
       "      <td>he</td>\n",
       "      <td>she</td>\n",
       "      <td>secretary</td>\n",
       "    </tr>\n",
       "  </tbody>\n",
       "</table>\n",
       "</div>"
      ],
      "text/plain": [
       "    index prediction  male prob  female prob stereotype anti-stereotype  \\\n",
       "0       0        she   0.440321     0.442997         he             she   \n",
       "1       1        she   0.420144     0.420793         he             she   \n",
       "4       4        she   0.426448     0.455436         he             she   \n",
       "7       7        she   0.423534     0.461626         he             she   \n",
       "8       8        she   0.420875     0.426865         he             she   \n",
       "12     12        she   0.400038     0.424151         he             she   \n",
       "13     13        she   0.423349     0.438061         he             she   \n",
       "16     16        she   0.400350     0.417673         he             she   \n",
       "17     17        she   0.401417     0.406529         he             she   \n",
       "18     18        she   0.411976     0.435333         he             she   \n",
       "19     19        she   0.411522     0.427162         he             she   \n",
       "23     23        she   0.436548     0.452408         he             she   \n",
       "24     24        she   0.367197     0.405209         he             she   \n",
       "25     25        she   0.401459     0.406674         he             she   \n",
       "30     30        she   0.414899     0.454891         he             she   \n",
       "32     32        she   0.393969     0.410683         he             she   \n",
       "37     37        she   0.407177     0.417184         he             she   \n",
       "38     38        she   0.414723     0.452081         he             she   \n",
       "40     40        she   0.419884     0.421626         he             she   \n",
       "41     41        she   0.400107     0.405457         he             she   \n",
       "45     45        she   0.415594     0.435932         he             she   \n",
       "49     49        she   0.405914     0.411085         he             she   \n",
       "51     51         he   0.425793     0.423165        she              he   \n",
       "52     52        her   0.371735     0.441538        him             her   \n",
       "58     58        she   0.410828     0.421907         he             she   \n",
       "59     59        she   0.400602     0.408830         he             she   \n",
       "\n",
       "       profession  \n",
       "0      technician  \n",
       "1      accountant  \n",
       "4          worker  \n",
       "7       counselor  \n",
       "8       inspector  \n",
       "12  administrator  \n",
       "13    salesperson  \n",
       "16        advisor  \n",
       "17     pharmacist  \n",
       "18        janitor  \n",
       "19   psychologist  \n",
       "23   investigator  \n",
       "24      bartender  \n",
       "25     specialist  \n",
       "30         lawyer  \n",
       "32   practitioner  \n",
       "37      paramedic  \n",
       "38       examiner  \n",
       "40      machinist  \n",
       "41      appraiser  \n",
       "45          baker  \n",
       "49      scientist  \n",
       "51        cashier  \n",
       "52        auditor  \n",
       "58    firefighter  \n",
       "59      secretary  "
      ]
     },
     "execution_count": 96,
     "metadata": {},
     "output_type": "execute_result"
    }
   ],
   "source": [
    "results_df_extract"
   ]
  },
  {
   "cell_type": "code",
   "execution_count": null,
   "id": "22e63397",
   "metadata": {
    "id": "22e63397",
    "outputId": "6acd5a7b-1486-42ac-e305-26d9e60b0d70"
   },
   "outputs": [
    {
     "data": {
      "text/plain": [
       "26"
      ]
     },
     "execution_count": 92,
     "metadata": {},
     "output_type": "execute_result"
    }
   ],
   "source": [
    "len(results_df_extract)"
   ]
  },
  {
   "cell_type": "markdown",
   "id": "ISmrqzRFBqBR",
   "metadata": {
    "id": "ISmrqzRFBqBR"
   },
   "source": [
    "Find the counts of anti-stereotypically male professions that were predicted as male versus anti-stereotypically female professions that were predicted as female "
   ]
  },
  {
   "cell_type": "code",
   "execution_count": null,
   "id": "6a54be53",
   "metadata": {
    "id": "6a54be53"
   },
   "outputs": [],
   "source": [
    "anti_stereo_labels = results_df['anti-stereotype']\n",
    "female_prof_counts = 0\n",
    "male_prof_counts = 0\n",
    "for label in anti_stereo_labels:\n",
    "    if label in female_labels:\n",
    "        female_prof_counts += 1\n",
    "    else:\n",
    "        male_prof_counts += 1\n",
    "\n",
    "preds = results_df['prediction']\n",
    "female_preds = 0\n",
    "male_preds = 0\n",
    "for pred in preds:\n",
    "    if pred in female_labels:\n",
    "        female_preds += 1\n",
    "    else:\n",
    "        male_preds += 1\n",
    "        \n",
    "male_female_prof_counts = [male_prof_counts, female_prof_counts]\n",
    "male_female_preds = [male_preds, female_preds]"
   ]
  },
  {
   "cell_type": "markdown",
   "id": "xNhVMic0B1r3",
   "metadata": {
    "id": "xNhVMic0B1r3"
   },
   "source": [
    "Plot the counts"
   ]
  },
  {
   "cell_type": "code",
   "execution_count": null,
   "id": "10b0d1d1",
   "metadata": {
    "id": "10b0d1d1",
    "outputId": "244b651c-a69d-49d0-8d4b-03bd059fa1f8"
   },
   "outputs": [
    {
     "data": {
      "image/png": "[encoded data removed]",
      "text/plain": [
       "<Figure size 1200x800 with 1 Axes>"
      ]
     },
     "metadata": {},
     "output_type": "display_data"
    }
   ],
   "source": [
    "import numpy as np\n",
    "import matplotlib.pyplot as plt\n",
    "barWidth = 0.25\n",
    "fig = plt.subplots(figsize =(12, 8))\n",
    "br1 = np.arange(len(male_female_prof_counts))\n",
    "br2 = [x + barWidth for x in br1]\n",
    "\n",
    "X = [' Male anti-stereotype counts & predictions', ' Female anti-stereotype counts & predictions']\n",
    "\n",
    "plt.bar(br1, male_female_prof_counts, color ='r', width = barWidth,\n",
    "        edgecolor ='grey', label ='Male counts')\n",
    "plt.bar(br2, male_female_preds, color ='g', width = barWidth,\n",
    "        edgecolor ='grey', label ='Female counts')\n",
    "plt.xticks(br1, X)\n",
    "plt.title('Male vs. female predictions with respect to anti-stereotypes')\n",
    "plt.ylabel('Count')\n",
    "plt.show()"
   ]
  },
  {
   "cell_type": "markdown",
   "id": "065b1e9d",
   "metadata": {},
   "source": [
    "## Word embedding neutralization"
   ]
  },
  {
   "cell_type": "code",
   "execution_count": 3,
   "id": "41c4ba41",
   "metadata": {},
   "outputs": [
    {
     "name": "stdout",
     "output_type": "stream",
     "text": [
      "Collecting en-core-web-lg==3.2.0\n",
      "  Downloading https://github.com/explosion/spacy-models/releases/download/en_core_web_lg-3.2.0/en_core_web_lg-3.2.0-py3-none-any.whl (777.4 MB)\n",
      "Requirement already satisfied: spacy<3.3.0,>=3.2.0 in /Users/nehapullabhotla/opt/anaconda3/lib/python3.9/site-packages (from en-core-web-lg==3.2.0) (3.2.2)\n",
      "Requirement already satisfied: spacy-loggers<2.0.0,>=1.0.0 in /Users/nehapullabhotla/opt/anaconda3/lib/python3.9/site-packages (from spacy<3.3.0,>=3.2.0->en-core-web-lg==3.2.0) (1.0.3)\n",
      "Requirement already satisfied: langcodes<4.0.0,>=3.2.0 in /Users/nehapullabhotla/opt/anaconda3/lib/python3.9/site-packages (from spacy<3.3.0,>=3.2.0->en-core-web-lg==3.2.0) (3.3.0)\n",
      "Requirement already satisfied: numpy>=1.15.0 in /Users/nehapullabhotla/opt/anaconda3/lib/python3.9/site-packages (from spacy<3.3.0,>=3.2.0->en-core-web-lg==3.2.0) (1.21.5)\n",
      "Requirement already satisfied: pathy>=0.3.5 in /Users/nehapullabhotla/opt/anaconda3/lib/python3.9/site-packages (from spacy<3.3.0,>=3.2.0->en-core-web-lg==3.2.0) (0.6.2)\n",
      "Requirement already satisfied: catalogue<2.1.0,>=2.0.6 in /Users/nehapullabhotla/opt/anaconda3/lib/python3.9/site-packages (from spacy<3.3.0,>=3.2.0->en-core-web-lg==3.2.0) (2.0.8)\n",
      "Requirement already satisfied: cymem<2.1.0,>=2.0.2 in /Users/nehapullabhotla/opt/anaconda3/lib/python3.9/site-packages (from spacy<3.3.0,>=3.2.0->en-core-web-lg==3.2.0) (2.0.6)\n",
      "Requirement already satisfied: blis<0.8.0,>=0.4.0 in /Users/nehapullabhotla/opt/anaconda3/lib/python3.9/site-packages (from spacy<3.3.0,>=3.2.0->en-core-web-lg==3.2.0) (0.7.8)\n",
      "Requirement already satisfied: pydantic!=1.8,!=1.8.1,<1.9.0,>=1.7.4 in /Users/nehapullabhotla/opt/anaconda3/lib/python3.9/site-packages (from spacy<3.3.0,>=3.2.0->en-core-web-lg==3.2.0) (1.8.2)\n",
      "Requirement already satisfied: tqdm<5.0.0,>=4.38.0 in /Users/nehapullabhotla/opt/anaconda3/lib/python3.9/site-packages (from spacy<3.3.0,>=3.2.0->en-core-web-lg==3.2.0) (4.64.0)\n",
      "Requirement already satisfied: murmurhash<1.1.0,>=0.28.0 in /Users/nehapullabhotla/opt/anaconda3/lib/python3.9/site-packages (from spacy<3.3.0,>=3.2.0->en-core-web-lg==3.2.0) (1.0.7)\n",
      "Requirement already satisfied: packaging>=20.0 in /Users/nehapullabhotla/opt/anaconda3/lib/python3.9/site-packages (from spacy<3.3.0,>=3.2.0->en-core-web-lg==3.2.0) (21.3)\n",
      "Requirement already satisfied: typer<0.5.0,>=0.3.0 in /Users/nehapullabhotla/opt/anaconda3/lib/python3.9/site-packages (from spacy<3.3.0,>=3.2.0->en-core-web-lg==3.2.0) (0.4.2)\n",
      "Requirement already satisfied: requests<3.0.0,>=2.13.0 in /Users/nehapullabhotla/opt/anaconda3/lib/python3.9/site-packages (from spacy<3.3.0,>=3.2.0->en-core-web-lg==3.2.0) (2.28.1)\n",
      "Requirement already satisfied: spacy-legacy<3.1.0,>=3.0.8 in /Users/nehapullabhotla/opt/anaconda3/lib/python3.9/site-packages (from spacy<3.3.0,>=3.2.0->en-core-web-lg==3.2.0) (3.0.10)\n",
      "Requirement already satisfied: wasabi<1.1.0,>=0.8.1 in /Users/nehapullabhotla/opt/anaconda3/lib/python3.9/site-packages (from spacy<3.3.0,>=3.2.0->en-core-web-lg==3.2.0) (0.10.0)\n",
      "Requirement already satisfied: setuptools in /Users/nehapullabhotla/opt/anaconda3/lib/python3.9/site-packages (from spacy<3.3.0,>=3.2.0->en-core-web-lg==3.2.0) (61.2.0)\n",
      "Requirement already satisfied: preshed<3.1.0,>=3.0.2 in /Users/nehapullabhotla/opt/anaconda3/lib/python3.9/site-packages (from spacy<3.3.0,>=3.2.0->en-core-web-lg==3.2.0) (3.0.6)\n",
      "Requirement already satisfied: srsly<3.0.0,>=2.4.1 in /Users/nehapullabhotla/opt/anaconda3/lib/python3.9/site-packages (from spacy<3.3.0,>=3.2.0->en-core-web-lg==3.2.0) (2.4.3)\n",
      "Requirement already satisfied: thinc<8.1.0,>=8.0.12 in /Users/nehapullabhotla/opt/anaconda3/lib/python3.9/site-packages (from spacy<3.3.0,>=3.2.0->en-core-web-lg==3.2.0) (8.0.15)\n",
      "Requirement already satisfied: jinja2 in /Users/nehapullabhotla/opt/anaconda3/lib/python3.9/site-packages (from spacy<3.3.0,>=3.2.0->en-core-web-lg==3.2.0) (2.11.3)\n",
      "Requirement already satisfied: pyparsing!=3.0.5,>=2.0.2 in /Users/nehapullabhotla/opt/anaconda3/lib/python3.9/site-packages (from packaging>=20.0->spacy<3.3.0,>=3.2.0->en-core-web-lg==3.2.0) (3.0.4)\n",
      "Requirement already satisfied: smart-open<6.0.0,>=5.2.1 in /Users/nehapullabhotla/opt/anaconda3/lib/python3.9/site-packages (from pathy>=0.3.5->spacy<3.3.0,>=3.2.0->en-core-web-lg==3.2.0) (5.2.1)\n",
      "Requirement already satisfied: typing-extensions>=3.7.4.3 in /Users/nehapullabhotla/opt/anaconda3/lib/python3.9/site-packages (from pydantic!=1.8,!=1.8.1,<1.9.0,>=1.7.4->spacy<3.3.0,>=3.2.0->en-core-web-lg==3.2.0) (4.1.1)\n",
      "Requirement already satisfied: urllib3<1.27,>=1.21.1 in /Users/nehapullabhotla/opt/anaconda3/lib/python3.9/site-packages (from requests<3.0.0,>=2.13.0->spacy<3.3.0,>=3.2.0->en-core-web-lg==3.2.0) (1.26.13)\n",
      "Requirement already satisfied: charset-normalizer<3,>=2 in /Users/nehapullabhotla/opt/anaconda3/lib/python3.9/site-packages (from requests<3.0.0,>=2.13.0->spacy<3.3.0,>=3.2.0->en-core-web-lg==3.2.0) (2.0.4)\n",
      "Requirement already satisfied: idna<4,>=2.5 in /Users/nehapullabhotla/opt/anaconda3/lib/python3.9/site-packages (from requests<3.0.0,>=2.13.0->spacy<3.3.0,>=3.2.0->en-core-web-lg==3.2.0) (3.3)\n",
      "Requirement already satisfied: certifi>=2017.4.17 in /Users/nehapullabhotla/opt/anaconda3/lib/python3.9/site-packages (from requests<3.0.0,>=2.13.0->spacy<3.3.0,>=3.2.0->en-core-web-lg==3.2.0) (2021.10.8)\n",
      "Requirement already satisfied: click<9.0.0,>=7.1.1 in /Users/nehapullabhotla/opt/anaconda3/lib/python3.9/site-packages (from typer<0.5.0,>=0.3.0->spacy<3.3.0,>=3.2.0->en-core-web-lg==3.2.0) (8.0.4)\n",
      "Requirement already satisfied: MarkupSafe>=0.23 in /Users/nehapullabhotla/opt/anaconda3/lib/python3.9/site-packages (from jinja2->spacy<3.3.0,>=3.2.0->en-core-web-lg==3.2.0) (2.0.1)\n",
      "Installing collected packages: en-core-web-lg\n",
      "Successfully installed en-core-web-lg-3.2.0\n",
      "\u001b[38;5;2m✔ Download and installation successful\u001b[0m\n",
      "You can now load the package via spacy.load('en_core_web_lg')\n"
     ]
    }
   ],
   "source": [
    "spacy.cli.download(\"en_core_web_lg\")\n",
    "nlp = spacy.load('en_core_web_lg')\n",
    "\n",
    "\n",
    "def get_vector(word):\n",
    "    vect = nlp(word).vector\n",
    "    return vect\n",
    "\n",
    "\n",
    "def vector_projection(vec, sub_space):\n",
    "    dot_prod = vec @ sub_space  # dot product\n",
    "    lin_norm = numpy.linalg.norm(sub_space)\n",
    "    proj = dot_prod / lin_norm ** 2 * sub_space\n",
    "    return proj\n",
    "\n",
    "\n",
    "# Formula for cosine similarity = (v1⋅v2) / (||A|| ||B||) where the numerator is the dot product of\n",
    "# the two vectors and the deonominator is the muliplication of the vector norms\n",
    "def cosine_similarity(vec1, vec2):\n",
    "    dot_vecs = vec1 @ vec2  # Calculate the dot product of the two vectors\n",
    "    norm_vecs = numpy.linalg.norm(vec1) * numpy.linalg.norm(vec2)  # Muliply the vector norms\n",
    "    cosine = dot_vecs / norm_vecs\n",
    "    return cosine\n",
    "\n",
    "\n",
    "def neutralize(word, gender_subspace):\n",
    "    vec = get_vector(word)\n",
    "    neut_vec = vector_projection(vec, gender_subspace)\n",
    "    neut_vec = vec - neut_vec\n",
    "    return neut_vec\n",
    "\n",
    "\n",
    "def equal(v, wb, mub):\n",
    "    sqrt = numpy.sqrt(numpy.abs(1 - numpy.linalg.norm(v) ** 2))\n",
    "    vectors = ((wb - mub) / numpy.linalg.norm(wb - mub))\n",
    "    equalized = sqrt * vectors\n",
    "    equalized = v + equalized\n",
    "    return equalized\n",
    "\n",
    "\n",
    "def equalize_vec(w, subspace, v, mub):\n",
    "    new_vec = vector_projection(w, subspace)\n",
    "    equalized = equal(v, new_vec, mub)\n",
    "    return equalized\n",
    "\n",
    "\n",
    "def equalize_vectors(words, subspace):\n",
    "    word_1, word_2 = words\n",
    "    w1 = get_vector(word_1)\n",
    "    w2 = get_vector(word_2)\n",
    "\n",
    "    mu = (w1 + w2) / 2\n",
    "    mub = vector_projection(mu, subspace)\n",
    "    v = mu - mub\n",
    "\n",
    "    equalized_1 = equalize_vec(w1, subspace, v, mub)\n",
    "    equalized_2 = equalize_vec(w2, subspace, v, mub)\n",
    "    return equalized_1, equalized_2"
   ]
  },
  {
   "cell_type": "code",
   "execution_count": 4,
   "id": "64bd582a",
   "metadata": {},
   "outputs": [],
   "source": [
    "gender_subspace = get_vector('woman') - get_vector('man')  # gender (bias) axis\n",
    "words = ['doctor', 'nurse', 'programmer', 'accountant', 'homemaker', 'teacher', 'professor', 'scientist', 'artist']\n",
    "\n",
    "print(\"Cosine Sim before neutralize:\")\n",
    "for word in words:\n",
    "    vect = get_vector(word)\n",
    "    cosine = cosine_similarity(vect, gender_subspace)\n",
    "    print(word, cosine)\n",
    "print('\\n')\n",
    "\n",
    "print(\"Cosine Sim After neutralize:\")\n",
    "for word in words:\n",
    "    neut = neutralize(word, gender_subspace)\n",
    "    cosine = cosine_similarity(neut, gender_subspace)\n",
    "    print(word, cosine)\n",
    "print('\\n')\n",
    "\n",
    "print(\"cosine similarities before equalizing:\")\n",
    "print(\"He: \", cosine_similarity(get_vector('he'), gender_subspace))\n",
    "print(\"Her: \", cosine_similarity(get_vector('her'), gender_subspace))\n",
    "print('\\n')\n",
    "\n",
    "equal1, equal2 = equalize_vectors((\"he\", \"her\"), gender_subspace)\n",
    "print(\"cosine similarities after equalizing:\")\n",
    "print(\"He: \", cosine_similarity(equal1, gender_subspace))\n",
    "print(\"Her: \", cosine_similarity(equal2, gender_subspace))\n",
    "\n",
    "print(\"cosine similarities before equalizing:\")\n",
    "print(\"grandmother: \", cosine_similarity(get_vector('grandmother'), gender_subspace))\n",
    "print(\"grandfather: \", cosine_similarity(get_vector('grandfather'), gender_subspace))\n",
    "print('\\n')\n",
    "\n",
    "equal1, equal2 = equalize_vectors((\"grandmother\", \"grandfather\"), gender_subspace)\n",
    "print(\"cosine similarities after equalizing:\")\n",
    "print(\"grandmother: \", cosine_similarity(equal1, gender_subspace))\n",
    "print(\"grandfather: \", cosine_similarity(equal2, gender_subspace))"
   ]
  }
 ],
 "metadata": {
  "colab": {
   "provenance": [],
   "toc_visible": true
  },
  "kernelspec": {
   "display_name": "Python 3 (ipykernel)",
   "language": "python",
   "name": "python3"
  },
  "language_info": {
   "codemirror_mode": {
    "name": "ipython",
    "version": 3
   },
   "file_extension": ".py",
   "mimetype": "text/x-python",
   "name": "python",
   "nbconvert_exporter": "python",
   "pygments_lexer": "ipython3",
   "version": "3.9.12"
  }
 },
 "nbformat": 4,
 "nbformat_minor": 5
}
